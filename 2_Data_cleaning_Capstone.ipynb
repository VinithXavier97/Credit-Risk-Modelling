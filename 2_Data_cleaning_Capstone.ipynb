{
 "cells": [
  {
   "cell_type": "code",
   "execution_count": 2,
   "metadata": {},
   "outputs": [],
   "source": [
    "import pandas as pd\n",
    "import numpy as np \n",
    "import matplotlib.pyplot as plt \n",
    "import seaborn as sns \n",
    "import scipy.stats as stats\n",
    "import warnings\n",
    "warnings.filterwarnings('ignore')"
   ]
  },
  {
   "cell_type": "code",
   "execution_count": 3,
   "metadata": {},
   "outputs": [],
   "source": [
    "df=pd.read_csv('sample_4months.csv')"
   ]
  },
  {
   "cell_type": "code",
   "execution_count": 4,
   "metadata": {},
   "outputs": [],
   "source": [
    "null_val=round(df.isnull().sum()/len(df)*100,2)"
   ]
  },
  {
   "cell_type": "code",
   "execution_count": 5,
   "metadata": {
    "scrolled": true
   },
   "outputs": [
    {
     "data": {
      "text/plain": [
       "Unnamed: 0       0.0\n",
       "id             100.0\n",
       "member_id      100.0\n",
       "loan_amnt        0.0\n",
       "funded_amnt      0.0\n",
       "dtype: float64"
      ]
     },
     "execution_count": 5,
     "metadata": {},
     "output_type": "execute_result"
    }
   ],
   "source": [
    "null_val.head()"
   ]
  },
  {
   "cell_type": "markdown",
   "metadata": {},
   "source": [
    "### Columns with null values "
   ]
  },
  {
   "cell_type": "code",
   "execution_count": 6,
   "metadata": {},
   "outputs": [],
   "source": [
    "null_val=null_val.loc[null_val > 0]"
   ]
  },
  {
   "cell_type": "code",
   "execution_count": 8,
   "metadata": {},
   "outputs": [
    {
     "data": {
      "text/plain": [
       "id                                            100.00\n",
       "member_id                                     100.00\n",
       "emp_title                                       8.69\n",
       "emp_length                                      8.53\n",
       "url                                           100.00\n",
       "desc                                          100.00\n",
       "dti                                             0.24\n",
       "mths_since_last_delinq                         56.11\n",
       "mths_since_last_record                         86.19\n",
       "revol_util                                      0.14\n",
       "last_pymnt_d                                    0.14\n",
       "next_pymnt_d                                   17.24\n",
       "mths_since_last_major_derog                    76.91\n",
       "annual_inc_joint                               85.12\n",
       "dti_joint                                      85.12\n",
       "verification_status_joint                      85.42\n",
       "mths_since_rcnt_il                              3.90\n",
       "il_util                                        16.62\n",
       "all_util                                        0.03\n",
       "avg_cur_bal                                     0.01\n",
       "bc_open_to_buy                                  1.38\n",
       "bc_util                                         1.43\n",
       "mo_sin_old_il_acct                              3.90\n",
       "mths_since_recent_bc                            1.30\n",
       "mths_since_recent_bc_dlq                       80.22\n",
       "mths_since_recent_inq                          12.42\n",
       "mths_since_recent_revol_delinq                 71.31\n",
       "num_tl_120dpd_2m                                3.03\n",
       "percent_bc_gt_75                                1.39\n",
       "revol_bal_joint                                85.12\n",
       "sec_app_earliest_cr_line                       85.12\n",
       "sec_app_inq_last_6mths                         85.12\n",
       "sec_app_mort_acc                               85.12\n",
       "sec_app_open_acc                               85.12\n",
       "sec_app_revol_util                             85.40\n",
       "sec_app_open_act_il                            85.12\n",
       "sec_app_num_rev_accts                          85.12\n",
       "sec_app_chargeoff_within_12_mths               85.12\n",
       "sec_app_collections_12_mths_ex_med             85.12\n",
       "sec_app_mths_since_last_major_derog            94.97\n",
       "hardship_type                                  99.85\n",
       "hardship_reason                                99.85\n",
       "hardship_status                                99.85\n",
       "deferral_term                                  99.85\n",
       "hardship_amount                                99.85\n",
       "hardship_start_date                            99.85\n",
       "hardship_end_date                              99.85\n",
       "payment_plan_start_date                        99.85\n",
       "hardship_length                                99.85\n",
       "hardship_dpd                                   99.85\n",
       "hardship_loan_status                           99.85\n",
       "orig_projected_additional_accrued_interest     99.87\n",
       "hardship_payoff_balance_amount                 99.85\n",
       "hardship_last_payment_amount                   99.85\n",
       "debt_settlement_flag_date                      99.80\n",
       "settlement_status                              99.80\n",
       "settlement_date                                99.80\n",
       "settlement_amount                              99.80\n",
       "settlement_percentage                          99.80\n",
       "settlement_term                                99.80\n",
       "dtype: float64"
      ]
     },
     "execution_count": 8,
     "metadata": {},
     "output_type": "execute_result"
    }
   ],
   "source": [
    "null_val"
   ]
  },
  {
   "cell_type": "code",
   "execution_count": 9,
   "metadata": {},
   "outputs": [],
   "source": [
    "missing_less_50=null_val.loc[null_val <50]"
   ]
  },
  {
   "cell_type": "code",
   "execution_count": 10,
   "metadata": {},
   "outputs": [
    {
     "data": {
      "text/plain": [
       "17"
      ]
     },
     "execution_count": 10,
     "metadata": {},
     "output_type": "execute_result"
    }
   ],
   "source": [
    "missing_less_50.count()"
   ]
  },
  {
   "cell_type": "code",
   "execution_count": 11,
   "metadata": {},
   "outputs": [],
   "source": [
    "missing_more_50=null_val.loc[null_val>50]"
   ]
  },
  {
   "cell_type": "code",
   "execution_count": 15,
   "metadata": {},
   "outputs": [
    {
     "data": {
      "text/html": [
       "<div>\n",
       "<style scoped>\n",
       "    .dataframe tbody tr th:only-of-type {\n",
       "        vertical-align: middle;\n",
       "    }\n",
       "\n",
       "    .dataframe tbody tr th {\n",
       "        vertical-align: top;\n",
       "    }\n",
       "\n",
       "    .dataframe thead th {\n",
       "        text-align: right;\n",
       "    }\n",
       "</style>\n",
       "<table border=\"1\" class=\"dataframe\">\n",
       "  <thead>\n",
       "    <tr style=\"text-align: right;\">\n",
       "      <th></th>\n",
       "      <th>0</th>\n",
       "    </tr>\n",
       "  </thead>\n",
       "  <tbody>\n",
       "    <tr>\n",
       "      <td>id</td>\n",
       "      <td>100.00</td>\n",
       "    </tr>\n",
       "    <tr>\n",
       "      <td>member_id</td>\n",
       "      <td>100.00</td>\n",
       "    </tr>\n",
       "    <tr>\n",
       "      <td>url</td>\n",
       "      <td>100.00</td>\n",
       "    </tr>\n",
       "    <tr>\n",
       "      <td>desc</td>\n",
       "      <td>100.00</td>\n",
       "    </tr>\n",
       "    <tr>\n",
       "      <td>orig_projected_additional_accrued_interest</td>\n",
       "      <td>99.87</td>\n",
       "    </tr>\n",
       "    <tr>\n",
       "      <td>hardship_length</td>\n",
       "      <td>99.85</td>\n",
       "    </tr>\n",
       "    <tr>\n",
       "      <td>hardship_dpd</td>\n",
       "      <td>99.85</td>\n",
       "    </tr>\n",
       "    <tr>\n",
       "      <td>hardship_status</td>\n",
       "      <td>99.85</td>\n",
       "    </tr>\n",
       "    <tr>\n",
       "      <td>deferral_term</td>\n",
       "      <td>99.85</td>\n",
       "    </tr>\n",
       "    <tr>\n",
       "      <td>hardship_amount</td>\n",
       "      <td>99.85</td>\n",
       "    </tr>\n",
       "    <tr>\n",
       "      <td>hardship_start_date</td>\n",
       "      <td>99.85</td>\n",
       "    </tr>\n",
       "    <tr>\n",
       "      <td>hardship_end_date</td>\n",
       "      <td>99.85</td>\n",
       "    </tr>\n",
       "    <tr>\n",
       "      <td>payment_plan_start_date</td>\n",
       "      <td>99.85</td>\n",
       "    </tr>\n",
       "    <tr>\n",
       "      <td>hardship_reason</td>\n",
       "      <td>99.85</td>\n",
       "    </tr>\n",
       "    <tr>\n",
       "      <td>hardship_loan_status</td>\n",
       "      <td>99.85</td>\n",
       "    </tr>\n",
       "    <tr>\n",
       "      <td>hardship_type</td>\n",
       "      <td>99.85</td>\n",
       "    </tr>\n",
       "    <tr>\n",
       "      <td>hardship_payoff_balance_amount</td>\n",
       "      <td>99.85</td>\n",
       "    </tr>\n",
       "    <tr>\n",
       "      <td>hardship_last_payment_amount</td>\n",
       "      <td>99.85</td>\n",
       "    </tr>\n",
       "    <tr>\n",
       "      <td>settlement_date</td>\n",
       "      <td>99.80</td>\n",
       "    </tr>\n",
       "    <tr>\n",
       "      <td>debt_settlement_flag_date</td>\n",
       "      <td>99.80</td>\n",
       "    </tr>\n",
       "    <tr>\n",
       "      <td>settlement_status</td>\n",
       "      <td>99.80</td>\n",
       "    </tr>\n",
       "    <tr>\n",
       "      <td>settlement_percentage</td>\n",
       "      <td>99.80</td>\n",
       "    </tr>\n",
       "    <tr>\n",
       "      <td>settlement_amount</td>\n",
       "      <td>99.80</td>\n",
       "    </tr>\n",
       "    <tr>\n",
       "      <td>settlement_term</td>\n",
       "      <td>99.80</td>\n",
       "    </tr>\n",
       "    <tr>\n",
       "      <td>sec_app_mths_since_last_major_derog</td>\n",
       "      <td>94.97</td>\n",
       "    </tr>\n",
       "    <tr>\n",
       "      <td>mths_since_last_record</td>\n",
       "      <td>86.19</td>\n",
       "    </tr>\n",
       "    <tr>\n",
       "      <td>verification_status_joint</td>\n",
       "      <td>85.42</td>\n",
       "    </tr>\n",
       "    <tr>\n",
       "      <td>sec_app_revol_util</td>\n",
       "      <td>85.40</td>\n",
       "    </tr>\n",
       "    <tr>\n",
       "      <td>sec_app_earliest_cr_line</td>\n",
       "      <td>85.12</td>\n",
       "    </tr>\n",
       "    <tr>\n",
       "      <td>annual_inc_joint</td>\n",
       "      <td>85.12</td>\n",
       "    </tr>\n",
       "    <tr>\n",
       "      <td>dti_joint</td>\n",
       "      <td>85.12</td>\n",
       "    </tr>\n",
       "    <tr>\n",
       "      <td>sec_app_chargeoff_within_12_mths</td>\n",
       "      <td>85.12</td>\n",
       "    </tr>\n",
       "    <tr>\n",
       "      <td>revol_bal_joint</td>\n",
       "      <td>85.12</td>\n",
       "    </tr>\n",
       "    <tr>\n",
       "      <td>sec_app_inq_last_6mths</td>\n",
       "      <td>85.12</td>\n",
       "    </tr>\n",
       "    <tr>\n",
       "      <td>sec_app_mort_acc</td>\n",
       "      <td>85.12</td>\n",
       "    </tr>\n",
       "    <tr>\n",
       "      <td>sec_app_open_acc</td>\n",
       "      <td>85.12</td>\n",
       "    </tr>\n",
       "    <tr>\n",
       "      <td>sec_app_open_act_il</td>\n",
       "      <td>85.12</td>\n",
       "    </tr>\n",
       "    <tr>\n",
       "      <td>sec_app_num_rev_accts</td>\n",
       "      <td>85.12</td>\n",
       "    </tr>\n",
       "    <tr>\n",
       "      <td>sec_app_collections_12_mths_ex_med</td>\n",
       "      <td>85.12</td>\n",
       "    </tr>\n",
       "    <tr>\n",
       "      <td>mths_since_recent_bc_dlq</td>\n",
       "      <td>80.22</td>\n",
       "    </tr>\n",
       "    <tr>\n",
       "      <td>mths_since_last_major_derog</td>\n",
       "      <td>76.91</td>\n",
       "    </tr>\n",
       "    <tr>\n",
       "      <td>mths_since_recent_revol_delinq</td>\n",
       "      <td>71.31</td>\n",
       "    </tr>\n",
       "    <tr>\n",
       "      <td>mths_since_last_delinq</td>\n",
       "      <td>56.11</td>\n",
       "    </tr>\n",
       "  </tbody>\n",
       "</table>\n",
       "</div>"
      ],
      "text/plain": [
       "                                                 0\n",
       "id                                          100.00\n",
       "member_id                                   100.00\n",
       "url                                         100.00\n",
       "desc                                        100.00\n",
       "orig_projected_additional_accrued_interest   99.87\n",
       "hardship_length                              99.85\n",
       "hardship_dpd                                 99.85\n",
       "hardship_status                              99.85\n",
       "deferral_term                                99.85\n",
       "hardship_amount                              99.85\n",
       "hardship_start_date                          99.85\n",
       "hardship_end_date                            99.85\n",
       "payment_plan_start_date                      99.85\n",
       "hardship_reason                              99.85\n",
       "hardship_loan_status                         99.85\n",
       "hardship_type                                99.85\n",
       "hardship_payoff_balance_amount               99.85\n",
       "hardship_last_payment_amount                 99.85\n",
       "settlement_date                              99.80\n",
       "debt_settlement_flag_date                    99.80\n",
       "settlement_status                            99.80\n",
       "settlement_percentage                        99.80\n",
       "settlement_amount                            99.80\n",
       "settlement_term                              99.80\n",
       "sec_app_mths_since_last_major_derog          94.97\n",
       "mths_since_last_record                       86.19\n",
       "verification_status_joint                    85.42\n",
       "sec_app_revol_util                           85.40\n",
       "sec_app_earliest_cr_line                     85.12\n",
       "annual_inc_joint                             85.12\n",
       "dti_joint                                    85.12\n",
       "sec_app_chargeoff_within_12_mths             85.12\n",
       "revol_bal_joint                              85.12\n",
       "sec_app_inq_last_6mths                       85.12\n",
       "sec_app_mort_acc                             85.12\n",
       "sec_app_open_acc                             85.12\n",
       "sec_app_open_act_il                          85.12\n",
       "sec_app_num_rev_accts                        85.12\n",
       "sec_app_collections_12_mths_ex_med           85.12\n",
       "mths_since_recent_bc_dlq                     80.22\n",
       "mths_since_last_major_derog                  76.91\n",
       "mths_since_recent_revol_delinq               71.31\n",
       "mths_since_last_delinq                       56.11"
      ]
     },
     "execution_count": 15,
     "metadata": {},
     "output_type": "execute_result"
    }
   ],
   "source": [
    "missing_more_50.to_frame().sort_values(by=0, ascending=False)"
   ]
  },
  {
   "cell_type": "code",
   "execution_count": 16,
   "metadata": {},
   "outputs": [
    {
     "data": {
      "text/plain": [
       "43"
      ]
     },
     "execution_count": 16,
     "metadata": {},
     "output_type": "execute_result"
    }
   ],
   "source": [
    "missing_more_50.count()"
   ]
  },
  {
   "cell_type": "code",
   "execution_count": 19,
   "metadata": {},
   "outputs": [
    {
     "data": {
      "text/plain": [
       "emp_title                 8.69\n",
       "emp_length                8.53\n",
       "dti                       0.24\n",
       "revol_util                0.14\n",
       "last_pymnt_d              0.14\n",
       "next_pymnt_d             17.24\n",
       "mths_since_rcnt_il        3.90\n",
       "il_util                  16.62\n",
       "all_util                  0.03\n",
       "avg_cur_bal               0.01\n",
       "bc_open_to_buy            1.38\n",
       "bc_util                   1.43\n",
       "mo_sin_old_il_acct        3.90\n",
       "mths_since_recent_bc      1.30\n",
       "mths_since_recent_inq    12.42\n",
       "num_tl_120dpd_2m          3.03\n",
       "percent_bc_gt_75          1.39\n",
       "dtype: float64"
      ]
     },
     "execution_count": 19,
     "metadata": {},
     "output_type": "execute_result"
    }
   ],
   "source": [
    "missing_less_50"
   ]
  },
  {
   "cell_type": "code",
   "execution_count": 16,
   "metadata": {},
   "outputs": [],
   "source": [
    "missing_less_50=missing_less_50.to_frame()"
   ]
  },
  {
   "cell_type": "code",
   "execution_count": 17,
   "metadata": {
    "scrolled": true
   },
   "outputs": [
    {
     "data": {
      "text/html": [
       "<div>\n",
       "<style scoped>\n",
       "    .dataframe tbody tr th:only-of-type {\n",
       "        vertical-align: middle;\n",
       "    }\n",
       "\n",
       "    .dataframe tbody tr th {\n",
       "        vertical-align: top;\n",
       "    }\n",
       "\n",
       "    .dataframe thead th {\n",
       "        text-align: right;\n",
       "    }\n",
       "</style>\n",
       "<table border=\"1\" class=\"dataframe\">\n",
       "  <thead>\n",
       "    <tr style=\"text-align: right;\">\n",
       "      <th></th>\n",
       "      <th>0</th>\n",
       "    </tr>\n",
       "  </thead>\n",
       "  <tbody>\n",
       "    <tr>\n",
       "      <th>avg_cur_bal</th>\n",
       "      <td>0.01</td>\n",
       "    </tr>\n",
       "    <tr>\n",
       "      <th>all_util</th>\n",
       "      <td>0.03</td>\n",
       "    </tr>\n",
       "    <tr>\n",
       "      <th>revol_util</th>\n",
       "      <td>0.14</td>\n",
       "    </tr>\n",
       "    <tr>\n",
       "      <th>last_pymnt_d</th>\n",
       "      <td>0.14</td>\n",
       "    </tr>\n",
       "    <tr>\n",
       "      <th>dti</th>\n",
       "      <td>0.24</td>\n",
       "    </tr>\n",
       "    <tr>\n",
       "      <th>mths_since_recent_bc</th>\n",
       "      <td>1.30</td>\n",
       "    </tr>\n",
       "    <tr>\n",
       "      <th>bc_open_to_buy</th>\n",
       "      <td>1.38</td>\n",
       "    </tr>\n",
       "    <tr>\n",
       "      <th>percent_bc_gt_75</th>\n",
       "      <td>1.39</td>\n",
       "    </tr>\n",
       "    <tr>\n",
       "      <th>bc_util</th>\n",
       "      <td>1.43</td>\n",
       "    </tr>\n",
       "    <tr>\n",
       "      <th>num_tl_120dpd_2m</th>\n",
       "      <td>3.03</td>\n",
       "    </tr>\n",
       "    <tr>\n",
       "      <th>mths_since_rcnt_il</th>\n",
       "      <td>3.90</td>\n",
       "    </tr>\n",
       "    <tr>\n",
       "      <th>mo_sin_old_il_acct</th>\n",
       "      <td>3.90</td>\n",
       "    </tr>\n",
       "    <tr>\n",
       "      <th>emp_length</th>\n",
       "      <td>8.53</td>\n",
       "    </tr>\n",
       "    <tr>\n",
       "      <th>emp_title</th>\n",
       "      <td>8.69</td>\n",
       "    </tr>\n",
       "    <tr>\n",
       "      <th>mths_since_recent_inq</th>\n",
       "      <td>12.42</td>\n",
       "    </tr>\n",
       "    <tr>\n",
       "      <th>il_util</th>\n",
       "      <td>16.62</td>\n",
       "    </tr>\n",
       "    <tr>\n",
       "      <th>next_pymnt_d</th>\n",
       "      <td>17.24</td>\n",
       "    </tr>\n",
       "  </tbody>\n",
       "</table>\n",
       "</div>"
      ],
      "text/plain": [
       "                           0\n",
       "avg_cur_bal             0.01\n",
       "all_util                0.03\n",
       "revol_util              0.14\n",
       "last_pymnt_d            0.14\n",
       "dti                     0.24\n",
       "mths_since_recent_bc    1.30\n",
       "bc_open_to_buy          1.38\n",
       "percent_bc_gt_75        1.39\n",
       "bc_util                 1.43\n",
       "num_tl_120dpd_2m        3.03\n",
       "mths_since_rcnt_il      3.90\n",
       "mo_sin_old_il_acct      3.90\n",
       "emp_length              8.53\n",
       "emp_title               8.69\n",
       "mths_since_recent_inq  12.42\n",
       "il_util                16.62\n",
       "next_pymnt_d           17.24"
      ]
     },
     "execution_count": 17,
     "metadata": {},
     "output_type": "execute_result"
    }
   ],
   "source": [
    "missing_less_50.sort_values(by=0)"
   ]
  },
  {
   "cell_type": "markdown",
   "metadata": {},
   "source": [
    "### defining a function for these null variables as we cannot plot untilt we deal with imputation"
   ]
  },
  {
   "cell_type": "code",
   "execution_count": 26,
   "metadata": {},
   "outputs": [],
   "source": [
    "def analyze_univariate_null(x):\n",
    "    print(x.describe())\n",
    "    print(\"Skewness:\", x.skew())\n",
    "    print(\"No.of null values:\",x.isnull().sum())"
   ]
  },
  {
   "cell_type": "code",
   "execution_count": 33,
   "metadata": {},
   "outputs": [],
   "source": [
    "def analyze_univariate_null_dt(x):\n",
    "    print(x.describe())\n",
    "    print(\"No.of null values:\",x.isnull().sum())"
   ]
  },
  {
   "cell_type": "code",
   "execution_count": 48,
   "metadata": {},
   "outputs": [],
   "source": [
    "def analyze_univariate_null_cat(x):\n",
    "    print(x.describe())\n",
    "    print(x.value_counts())\n",
    "    print(\"No.of null values:\",x.isnull().sum())"
   ]
  },
  {
   "cell_type": "markdown",
   "metadata": {},
   "source": [
    "### column/Attribute_1: avg_cur_bal"
   ]
  },
  {
   "cell_type": "markdown",
   "metadata": {},
   "source": [
    "Average current balance of all accounts"
   ]
  },
  {
   "cell_type": "code",
   "execution_count": 27,
   "metadata": {
    "scrolled": true
   },
   "outputs": [
    {
     "name": "stdout",
     "output_type": "stream",
     "text": [
      "count    150781.000000\n",
      "mean      13766.609507\n",
      "std       17251.042237\n",
      "min           0.000000\n",
      "25%        2917.000000\n",
      "50%        7108.000000\n",
      "75%       19103.000000\n",
      "max      620531.000000\n",
      "Name: avg_cur_bal, dtype: float64\n",
      "Skewness: 3.7404172006369945\n",
      "No.of null values: 11\n"
     ]
    }
   ],
   "source": [
    "analyze_univariate_null(df['avg_cur_bal'])"
   ]
  },
  {
   "cell_type": "markdown",
   "metadata": {},
   "source": [
    "Conclusion:\n",
    "    1. this may be a important feature and can be derived from other feature"
   ]
  },
  {
   "cell_type": "markdown",
   "metadata": {},
   "source": [
    "### column/Attribute_2: all_util"
   ]
  },
  {
   "cell_type": "markdown",
   "metadata": {},
   "source": [
    "Balance to credit limit on all trades. If someone has several credit cards, the math is still simple. The balance-to-limit ratio is the sum of all the balances plus the sum of all credit limits divided by the total balance and total credit limit."
   ]
  },
  {
   "cell_type": "code",
   "execution_count": 28,
   "metadata": {},
   "outputs": [
    {
     "name": "stdout",
     "output_type": "stream",
     "text": [
      "count    150752.00000\n",
      "mean         53.66417\n",
      "std          21.40472\n",
      "min           0.00000\n",
      "25%          39.00000\n",
      "50%          55.00000\n",
      "75%          69.00000\n",
      "max         239.00000\n",
      "Name: all_util, dtype: float64\n",
      "Skewness: -0.08059644006382956\n",
      "No.of null values: 40\n"
     ]
    }
   ],
   "source": [
    "analyze_univariate_null(df['all_util'])"
   ]
  },
  {
   "cell_type": "markdown",
   "metadata": {},
   "source": [
    "Conclusion:\n",
    "    1. Mean can be used for imputation"
   ]
  },
  {
   "cell_type": "markdown",
   "metadata": {},
   "source": [
    "### column/Attribute_3: all_util"
   ]
  },
  {
   "cell_type": "markdown",
   "metadata": {},
   "source": [
    "Revolving line utilization rate, or the amount of credit the borrower is using relative to all available revolving credit."
   ]
  },
  {
   "cell_type": "code",
   "execution_count": 30,
   "metadata": {},
   "outputs": [
    {
     "name": "stdout",
     "output_type": "stream",
     "text": [
      "count    150588.000000\n",
      "mean         43.349010\n",
      "std          25.123058\n",
      "min           0.000000\n",
      "25%          23.500000\n",
      "50%          41.500000\n",
      "75%          61.900000\n",
      "max         191.000000\n",
      "Name: revol_util, dtype: float64\n",
      "Skewness: 0.25109112601064154\n",
      "No.of null values: 204\n"
     ]
    }
   ],
   "source": [
    "analyze_univariate_null(df['revol_util'])"
   ]
  },
  {
   "cell_type": "markdown",
   "metadata": {},
   "source": [
    "Conclusion:\n",
    "    1. Mean can be used for imputation"
   ]
  },
  {
   "cell_type": "markdown",
   "metadata": {},
   "source": [
    "### column/Attribute_4: last_pymnt_d"
   ]
  },
  {
   "cell_type": "markdown",
   "metadata": {},
   "source": [
    "Last month payment was received"
   ]
  },
  {
   "cell_type": "code",
   "execution_count": 34,
   "metadata": {},
   "outputs": [
    {
     "name": "stdout",
     "output_type": "stream",
     "text": [
      "count       150576\n",
      "unique          14\n",
      "top       Feb-2019\n",
      "freq        119996\n",
      "Name: last_pymnt_d, dtype: object\n",
      "No.of null values: 216\n"
     ]
    }
   ],
   "source": [
    "analyze_univariate_null_dt(df['last_pymnt_d'])"
   ]
  },
  {
   "cell_type": "code",
   "execution_count": 35,
   "metadata": {},
   "outputs": [],
   "source": [
    "pd.options.display.max_rows=None\n",
    "pd.options.display.max_columns=None"
   ]
  },
  {
   "cell_type": "code",
   "execution_count": 140,
   "metadata": {},
   "outputs": [
    {
     "data": {
      "text/html": [
       "<div>\n",
       "<style scoped>\n",
       "    .dataframe tbody tr th:only-of-type {\n",
       "        vertical-align: middle;\n",
       "    }\n",
       "\n",
       "    .dataframe tbody tr th {\n",
       "        vertical-align: top;\n",
       "    }\n",
       "\n",
       "    .dataframe thead th {\n",
       "        text-align: right;\n",
       "    }\n",
       "</style>\n",
       "<table border=\"1\" class=\"dataframe\">\n",
       "  <thead>\n",
       "    <tr style=\"text-align: right;\">\n",
       "      <th></th>\n",
       "      <th>Unnamed: 0</th>\n",
       "      <th>id</th>\n",
       "      <th>member_id</th>\n",
       "      <th>loan_amnt</th>\n",
       "      <th>funded_amnt</th>\n",
       "      <th>funded_amnt_inv</th>\n",
       "      <th>term</th>\n",
       "      <th>int_rate</th>\n",
       "      <th>installment</th>\n",
       "      <th>grade</th>\n",
       "      <th>sub_grade</th>\n",
       "      <th>emp_title</th>\n",
       "      <th>emp_length</th>\n",
       "      <th>home_ownership</th>\n",
       "      <th>annual_inc</th>\n",
       "      <th>verification_status</th>\n",
       "      <th>issue_d</th>\n",
       "      <th>loan_status</th>\n",
       "      <th>pymnt_plan</th>\n",
       "      <th>url</th>\n",
       "      <th>desc</th>\n",
       "      <th>purpose</th>\n",
       "      <th>title</th>\n",
       "      <th>zip_code</th>\n",
       "      <th>addr_state</th>\n",
       "      <th>dti</th>\n",
       "      <th>delinq_2yrs</th>\n",
       "      <th>earliest_cr_line</th>\n",
       "      <th>inq_last_6mths</th>\n",
       "      <th>mths_since_last_delinq</th>\n",
       "      <th>mths_since_last_record</th>\n",
       "      <th>open_acc</th>\n",
       "      <th>pub_rec</th>\n",
       "      <th>revol_bal</th>\n",
       "      <th>revol_util</th>\n",
       "      <th>total_acc</th>\n",
       "      <th>initial_list_status</th>\n",
       "      <th>out_prncp</th>\n",
       "      <th>out_prncp_inv</th>\n",
       "      <th>total_pymnt</th>\n",
       "      <th>total_pymnt_inv</th>\n",
       "      <th>total_rec_prncp</th>\n",
       "      <th>total_rec_int</th>\n",
       "      <th>total_rec_late_fee</th>\n",
       "      <th>recoveries</th>\n",
       "      <th>collection_recovery_fee</th>\n",
       "      <th>last_pymnt_d</th>\n",
       "      <th>last_pymnt_amnt</th>\n",
       "      <th>next_pymnt_d</th>\n",
       "      <th>last_credit_pull_d</th>\n",
       "      <th>collections_12_mths_ex_med</th>\n",
       "      <th>mths_since_last_major_derog</th>\n",
       "      <th>policy_code</th>\n",
       "      <th>application_type</th>\n",
       "      <th>annual_inc_joint</th>\n",
       "      <th>dti_joint</th>\n",
       "      <th>verification_status_joint</th>\n",
       "      <th>acc_now_delinq</th>\n",
       "      <th>tot_coll_amt</th>\n",
       "      <th>tot_cur_bal</th>\n",
       "      <th>open_acc_6m</th>\n",
       "      <th>open_act_il</th>\n",
       "      <th>open_il_12m</th>\n",
       "      <th>open_il_24m</th>\n",
       "      <th>mths_since_rcnt_il</th>\n",
       "      <th>total_bal_il</th>\n",
       "      <th>il_util</th>\n",
       "      <th>open_rv_12m</th>\n",
       "      <th>open_rv_24m</th>\n",
       "      <th>max_bal_bc</th>\n",
       "      <th>all_util</th>\n",
       "      <th>total_rev_hi_lim</th>\n",
       "      <th>inq_fi</th>\n",
       "      <th>total_cu_tl</th>\n",
       "      <th>inq_last_12m</th>\n",
       "      <th>acc_open_past_24mths</th>\n",
       "      <th>avg_cur_bal</th>\n",
       "      <th>bc_open_to_buy</th>\n",
       "      <th>bc_util</th>\n",
       "      <th>chargeoff_within_12_mths</th>\n",
       "      <th>delinq_amnt</th>\n",
       "      <th>mo_sin_old_il_acct</th>\n",
       "      <th>mo_sin_old_rev_tl_op</th>\n",
       "      <th>mo_sin_rcnt_rev_tl_op</th>\n",
       "      <th>mo_sin_rcnt_tl</th>\n",
       "      <th>mort_acc</th>\n",
       "      <th>mths_since_recent_bc</th>\n",
       "      <th>mths_since_recent_bc_dlq</th>\n",
       "      <th>mths_since_recent_inq</th>\n",
       "      <th>mths_since_recent_revol_delinq</th>\n",
       "      <th>num_accts_ever_120_pd</th>\n",
       "      <th>num_actv_bc_tl</th>\n",
       "      <th>num_actv_rev_tl</th>\n",
       "      <th>num_bc_sats</th>\n",
       "      <th>num_bc_tl</th>\n",
       "      <th>num_il_tl</th>\n",
       "      <th>num_op_rev_tl</th>\n",
       "      <th>num_rev_accts</th>\n",
       "      <th>num_rev_tl_bal_gt_0</th>\n",
       "      <th>num_sats</th>\n",
       "      <th>num_tl_120dpd_2m</th>\n",
       "      <th>num_tl_30dpd</th>\n",
       "      <th>num_tl_90g_dpd_24m</th>\n",
       "      <th>num_tl_op_past_12m</th>\n",
       "      <th>pct_tl_nvr_dlq</th>\n",
       "      <th>percent_bc_gt_75</th>\n",
       "      <th>pub_rec_bankruptcies</th>\n",
       "      <th>tax_liens</th>\n",
       "      <th>tot_hi_cred_lim</th>\n",
       "      <th>total_bal_ex_mort</th>\n",
       "      <th>total_bc_limit</th>\n",
       "      <th>total_il_high_credit_limit</th>\n",
       "      <th>revol_bal_joint</th>\n",
       "      <th>sec_app_earliest_cr_line</th>\n",
       "      <th>sec_app_inq_last_6mths</th>\n",
       "      <th>sec_app_mort_acc</th>\n",
       "      <th>sec_app_open_acc</th>\n",
       "      <th>sec_app_revol_util</th>\n",
       "      <th>sec_app_open_act_il</th>\n",
       "      <th>sec_app_num_rev_accts</th>\n",
       "      <th>sec_app_chargeoff_within_12_mths</th>\n",
       "      <th>sec_app_collections_12_mths_ex_med</th>\n",
       "      <th>sec_app_mths_since_last_major_derog</th>\n",
       "      <th>hardship_flag</th>\n",
       "      <th>hardship_type</th>\n",
       "      <th>hardship_reason</th>\n",
       "      <th>hardship_status</th>\n",
       "      <th>deferral_term</th>\n",
       "      <th>hardship_amount</th>\n",
       "      <th>hardship_start_date</th>\n",
       "      <th>hardship_end_date</th>\n",
       "      <th>payment_plan_start_date</th>\n",
       "      <th>hardship_length</th>\n",
       "      <th>hardship_dpd</th>\n",
       "      <th>hardship_loan_status</th>\n",
       "      <th>orig_projected_additional_accrued_interest</th>\n",
       "      <th>hardship_payoff_balance_amount</th>\n",
       "      <th>hardship_last_payment_amount</th>\n",
       "      <th>disbursement_method</th>\n",
       "      <th>debt_settlement_flag</th>\n",
       "      <th>debt_settlement_flag_date</th>\n",
       "      <th>settlement_status</th>\n",
       "      <th>settlement_date</th>\n",
       "      <th>settlement_amount</th>\n",
       "      <th>settlement_percentage</th>\n",
       "      <th>settlement_term</th>\n",
       "      <th>Year</th>\n",
       "      <th>Month</th>\n",
       "    </tr>\n",
       "  </thead>\n",
       "  <tbody>\n",
       "    <tr>\n",
       "      <th>0</th>\n",
       "      <td>343481</td>\n",
       "      <td>NaN</td>\n",
       "      <td>NaN</td>\n",
       "      <td>16000</td>\n",
       "      <td>16000</td>\n",
       "      <td>16000.0</td>\n",
       "      <td>36 months</td>\n",
       "      <td>18.45</td>\n",
       "      <td>582.06</td>\n",
       "      <td>D</td>\n",
       "      <td>D2</td>\n",
       "      <td>Manager</td>\n",
       "      <td>10+ years</td>\n",
       "      <td>RENT</td>\n",
       "      <td>85000.0</td>\n",
       "      <td>Source Verified</td>\n",
       "      <td>2018-04-01</td>\n",
       "      <td>Current</td>\n",
       "      <td>n</td>\n",
       "      <td>NaN</td>\n",
       "      <td>NaN</td>\n",
       "      <td>debt_consolidation</td>\n",
       "      <td>Debt consolidation</td>\n",
       "      <td>482xx</td>\n",
       "      <td>MI</td>\n",
       "      <td>12.97</td>\n",
       "      <td>1.0</td>\n",
       "      <td>Sep-2006</td>\n",
       "      <td>1.0</td>\n",
       "      <td>20.0</td>\n",
       "      <td>NaN</td>\n",
       "      <td>15.0</td>\n",
       "      <td>0.0</td>\n",
       "      <td>1156</td>\n",
       "      <td>4.0</td>\n",
       "      <td>25.0</td>\n",
       "      <td>w</td>\n",
       "      <td>12782.62</td>\n",
       "      <td>12782.62</td>\n",
       "      <td>5222.14</td>\n",
       "      <td>5222.14</td>\n",
       "      <td>3217.38</td>\n",
       "      <td>2004.76</td>\n",
       "      <td>0.0</td>\n",
       "      <td>0.0</td>\n",
       "      <td>0.0</td>\n",
       "      <td>Feb-2019</td>\n",
       "      <td>582.06</td>\n",
       "      <td>Mar-2019</td>\n",
       "      <td>Feb-2019</td>\n",
       "      <td>1.0</td>\n",
       "      <td>20.0</td>\n",
       "      <td>1</td>\n",
       "      <td>Joint App</td>\n",
       "      <td>155000.0</td>\n",
       "      <td>25.71</td>\n",
       "      <td>Source Verified</td>\n",
       "      <td>0.0</td>\n",
       "      <td>0.0</td>\n",
       "      <td>106254.0</td>\n",
       "      <td>3.0</td>\n",
       "      <td>1.0</td>\n",
       "      <td>2.0</td>\n",
       "      <td>3.0</td>\n",
       "      <td>2.0</td>\n",
       "      <td>27811.0</td>\n",
       "      <td>100.0</td>\n",
       "      <td>1.0</td>\n",
       "      <td>5.0</td>\n",
       "      <td>402.0</td>\n",
       "      <td>51.0</td>\n",
       "      <td>29200.0</td>\n",
       "      <td>2.0</td>\n",
       "      <td>4.0</td>\n",
       "      <td>2.0</td>\n",
       "      <td>9.0</td>\n",
       "      <td>7084.0</td>\n",
       "      <td>10763.0</td>\n",
       "      <td>7.2</td>\n",
       "      <td>0.0</td>\n",
       "      <td>0.0</td>\n",
       "      <td>137.0</td>\n",
       "      <td>139.0</td>\n",
       "      <td>2.0</td>\n",
       "      <td>2.0</td>\n",
       "      <td>2.0</td>\n",
       "      <td>2.0</td>\n",
       "      <td>NaN</td>\n",
       "      <td>2.0</td>\n",
       "      <td>NaN</td>\n",
       "      <td>1.0</td>\n",
       "      <td>3.0</td>\n",
       "      <td>5.0</td>\n",
       "      <td>3.0</td>\n",
       "      <td>5.0</td>\n",
       "      <td>8.0</td>\n",
       "      <td>12.0</td>\n",
       "      <td>15.0</td>\n",
       "      <td>5.0</td>\n",
       "      <td>15.0</td>\n",
       "      <td>0.0</td>\n",
       "      <td>0.0</td>\n",
       "      <td>1.0</td>\n",
       "      <td>3.0</td>\n",
       "      <td>96.0</td>\n",
       "      <td>0.0</td>\n",
       "      <td>0.0</td>\n",
       "      <td>0.0</td>\n",
       "      <td>136334.0</td>\n",
       "      <td>28967.0</td>\n",
       "      <td>11600.0</td>\n",
       "      <td>27934.0</td>\n",
       "      <td>38618.0</td>\n",
       "      <td>Mar-2007</td>\n",
       "      <td>1.0</td>\n",
       "      <td>1.0</td>\n",
       "      <td>20.0</td>\n",
       "      <td>52.2</td>\n",
       "      <td>5.0</td>\n",
       "      <td>16.0</td>\n",
       "      <td>0.0</td>\n",
       "      <td>0.0</td>\n",
       "      <td>NaN</td>\n",
       "      <td>N</td>\n",
       "      <td>NaN</td>\n",
       "      <td>NaN</td>\n",
       "      <td>NaN</td>\n",
       "      <td>NaN</td>\n",
       "      <td>NaN</td>\n",
       "      <td>NaN</td>\n",
       "      <td>NaN</td>\n",
       "      <td>NaN</td>\n",
       "      <td>NaN</td>\n",
       "      <td>NaN</td>\n",
       "      <td>NaN</td>\n",
       "      <td>NaN</td>\n",
       "      <td>NaN</td>\n",
       "      <td>NaN</td>\n",
       "      <td>Cash</td>\n",
       "      <td>N</td>\n",
       "      <td>NaN</td>\n",
       "      <td>NaN</td>\n",
       "      <td>NaN</td>\n",
       "      <td>NaN</td>\n",
       "      <td>NaN</td>\n",
       "      <td>NaN</td>\n",
       "      <td>2018</td>\n",
       "      <td>4</td>\n",
       "    </tr>\n",
       "    <tr>\n",
       "      <th>1</th>\n",
       "      <td>343482</td>\n",
       "      <td>NaN</td>\n",
       "      <td>NaN</td>\n",
       "      <td>28675</td>\n",
       "      <td>28675</td>\n",
       "      <td>28675.0</td>\n",
       "      <td>60 months</td>\n",
       "      <td>26.77</td>\n",
       "      <td>871.67</td>\n",
       "      <td>E</td>\n",
       "      <td>E5</td>\n",
       "      <td>officer</td>\n",
       "      <td>10+ years</td>\n",
       "      <td>MORTGAGE</td>\n",
       "      <td>78000.0</td>\n",
       "      <td>Verified</td>\n",
       "      <td>2018-04-01</td>\n",
       "      <td>Current</td>\n",
       "      <td>n</td>\n",
       "      <td>NaN</td>\n",
       "      <td>NaN</td>\n",
       "      <td>debt_consolidation</td>\n",
       "      <td>Debt consolidation</td>\n",
       "      <td>114xx</td>\n",
       "      <td>NY</td>\n",
       "      <td>17.00</td>\n",
       "      <td>0.0</td>\n",
       "      <td>Jul-2005</td>\n",
       "      <td>1.0</td>\n",
       "      <td>NaN</td>\n",
       "      <td>NaN</td>\n",
       "      <td>23.0</td>\n",
       "      <td>0.0</td>\n",
       "      <td>26933</td>\n",
       "      <td>69.4</td>\n",
       "      <td>68.0</td>\n",
       "      <td>w</td>\n",
       "      <td>26107.93</td>\n",
       "      <td>26107.93</td>\n",
       "      <td>8674.05</td>\n",
       "      <td>8674.05</td>\n",
       "      <td>2567.07</td>\n",
       "      <td>6106.98</td>\n",
       "      <td>0.0</td>\n",
       "      <td>0.0</td>\n",
       "      <td>0.0</td>\n",
       "      <td>Feb-2019</td>\n",
       "      <td>871.67</td>\n",
       "      <td>Mar-2019</td>\n",
       "      <td>Feb-2019</td>\n",
       "      <td>0.0</td>\n",
       "      <td>NaN</td>\n",
       "      <td>1</td>\n",
       "      <td>Individual</td>\n",
       "      <td>NaN</td>\n",
       "      <td>NaN</td>\n",
       "      <td>NaN</td>\n",
       "      <td>0.0</td>\n",
       "      <td>0.0</td>\n",
       "      <td>533522.0</td>\n",
       "      <td>1.0</td>\n",
       "      <td>15.0</td>\n",
       "      <td>0.0</td>\n",
       "      <td>0.0</td>\n",
       "      <td>36.0</td>\n",
       "      <td>156597.0</td>\n",
       "      <td>116.0</td>\n",
       "      <td>2.0</td>\n",
       "      <td>4.0</td>\n",
       "      <td>10540.0</td>\n",
       "      <td>105.0</td>\n",
       "      <td>38800.0</td>\n",
       "      <td>0.0</td>\n",
       "      <td>1.0</td>\n",
       "      <td>1.0</td>\n",
       "      <td>4.0</td>\n",
       "      <td>23197.0</td>\n",
       "      <td>6014.0</td>\n",
       "      <td>79.5</td>\n",
       "      <td>0.0</td>\n",
       "      <td>0.0</td>\n",
       "      <td>153.0</td>\n",
       "      <td>128.0</td>\n",
       "      <td>2.0</td>\n",
       "      <td>2.0</td>\n",
       "      <td>2.0</td>\n",
       "      <td>2.0</td>\n",
       "      <td>NaN</td>\n",
       "      <td>0.0</td>\n",
       "      <td>NaN</td>\n",
       "      <td>0.0</td>\n",
       "      <td>4.0</td>\n",
       "      <td>7.0</td>\n",
       "      <td>4.0</td>\n",
       "      <td>11.0</td>\n",
       "      <td>50.0</td>\n",
       "      <td>7.0</td>\n",
       "      <td>16.0</td>\n",
       "      <td>7.0</td>\n",
       "      <td>23.0</td>\n",
       "      <td>0.0</td>\n",
       "      <td>0.0</td>\n",
       "      <td>0.0</td>\n",
       "      <td>2.0</td>\n",
       "      <td>100.0</td>\n",
       "      <td>75.0</td>\n",
       "      <td>0.0</td>\n",
       "      <td>0.0</td>\n",
       "      <td>537686.0</td>\n",
       "      <td>183530.0</td>\n",
       "      <td>29300.0</td>\n",
       "      <td>135639.0</td>\n",
       "      <td>NaN</td>\n",
       "      <td>NaN</td>\n",
       "      <td>NaN</td>\n",
       "      <td>NaN</td>\n",
       "      <td>NaN</td>\n",
       "      <td>NaN</td>\n",
       "      <td>NaN</td>\n",
       "      <td>NaN</td>\n",
       "      <td>NaN</td>\n",
       "      <td>NaN</td>\n",
       "      <td>NaN</td>\n",
       "      <td>N</td>\n",
       "      <td>NaN</td>\n",
       "      <td>NaN</td>\n",
       "      <td>NaN</td>\n",
       "      <td>NaN</td>\n",
       "      <td>NaN</td>\n",
       "      <td>NaN</td>\n",
       "      <td>NaN</td>\n",
       "      <td>NaN</td>\n",
       "      <td>NaN</td>\n",
       "      <td>NaN</td>\n",
       "      <td>NaN</td>\n",
       "      <td>NaN</td>\n",
       "      <td>NaN</td>\n",
       "      <td>NaN</td>\n",
       "      <td>Cash</td>\n",
       "      <td>N</td>\n",
       "      <td>NaN</td>\n",
       "      <td>NaN</td>\n",
       "      <td>NaN</td>\n",
       "      <td>NaN</td>\n",
       "      <td>NaN</td>\n",
       "      <td>NaN</td>\n",
       "      <td>2018</td>\n",
       "      <td>4</td>\n",
       "    </tr>\n",
       "    <tr>\n",
       "      <th>2</th>\n",
       "      <td>343486</td>\n",
       "      <td>NaN</td>\n",
       "      <td>NaN</td>\n",
       "      <td>35000</td>\n",
       "      <td>35000</td>\n",
       "      <td>35000.0</td>\n",
       "      <td>36 months</td>\n",
       "      <td>13.58</td>\n",
       "      <td>1189.09</td>\n",
       "      <td>C</td>\n",
       "      <td>C2</td>\n",
       "      <td>Medical billing</td>\n",
       "      <td>4 years</td>\n",
       "      <td>RENT</td>\n",
       "      <td>32262.0</td>\n",
       "      <td>Source Verified</td>\n",
       "      <td>2018-04-01</td>\n",
       "      <td>Current</td>\n",
       "      <td>n</td>\n",
       "      <td>NaN</td>\n",
       "      <td>NaN</td>\n",
       "      <td>other</td>\n",
       "      <td>Other</td>\n",
       "      <td>606xx</td>\n",
       "      <td>IL</td>\n",
       "      <td>4.35</td>\n",
       "      <td>0.0</td>\n",
       "      <td>Aug-2007</td>\n",
       "      <td>0.0</td>\n",
       "      <td>68.0</td>\n",
       "      <td>NaN</td>\n",
       "      <td>7.0</td>\n",
       "      <td>0.0</td>\n",
       "      <td>772</td>\n",
       "      <td>16.4</td>\n",
       "      <td>16.0</td>\n",
       "      <td>w</td>\n",
       "      <td>15431.61</td>\n",
       "      <td>15431.61</td>\n",
       "      <td>22055.40</td>\n",
       "      <td>22055.40</td>\n",
       "      <td>19568.39</td>\n",
       "      <td>2487.01</td>\n",
       "      <td>0.0</td>\n",
       "      <td>0.0</td>\n",
       "      <td>0.0</td>\n",
       "      <td>Feb-2019</td>\n",
       "      <td>1189.09</td>\n",
       "      <td>Mar-2019</td>\n",
       "      <td>Feb-2019</td>\n",
       "      <td>0.0</td>\n",
       "      <td>68.0</td>\n",
       "      <td>1</td>\n",
       "      <td>Individual</td>\n",
       "      <td>NaN</td>\n",
       "      <td>NaN</td>\n",
       "      <td>NaN</td>\n",
       "      <td>0.0</td>\n",
       "      <td>0.0</td>\n",
       "      <td>1820.0</td>\n",
       "      <td>0.0</td>\n",
       "      <td>2.0</td>\n",
       "      <td>0.0</td>\n",
       "      <td>0.0</td>\n",
       "      <td>81.0</td>\n",
       "      <td>1048.0</td>\n",
       "      <td>14.0</td>\n",
       "      <td>0.0</td>\n",
       "      <td>1.0</td>\n",
       "      <td>0.0</td>\n",
       "      <td>15.0</td>\n",
       "      <td>4700.0</td>\n",
       "      <td>0.0</td>\n",
       "      <td>0.0</td>\n",
       "      <td>3.0</td>\n",
       "      <td>1.0</td>\n",
       "      <td>303.0</td>\n",
       "      <td>NaN</td>\n",
       "      <td>NaN</td>\n",
       "      <td>0.0</td>\n",
       "      <td>0.0</td>\n",
       "      <td>120.0</td>\n",
       "      <td>128.0</td>\n",
       "      <td>22.0</td>\n",
       "      <td>22.0</td>\n",
       "      <td>0.0</td>\n",
       "      <td>NaN</td>\n",
       "      <td>71.0</td>\n",
       "      <td>1.0</td>\n",
       "      <td>71.0</td>\n",
       "      <td>1.0</td>\n",
       "      <td>0.0</td>\n",
       "      <td>1.0</td>\n",
       "      <td>0.0</td>\n",
       "      <td>2.0</td>\n",
       "      <td>7.0</td>\n",
       "      <td>5.0</td>\n",
       "      <td>8.0</td>\n",
       "      <td>1.0</td>\n",
       "      <td>7.0</td>\n",
       "      <td>0.0</td>\n",
       "      <td>0.0</td>\n",
       "      <td>0.0</td>\n",
       "      <td>0.0</td>\n",
       "      <td>87.5</td>\n",
       "      <td>NaN</td>\n",
       "      <td>0.0</td>\n",
       "      <td>0.0</td>\n",
       "      <td>12200.0</td>\n",
       "      <td>1820.0</td>\n",
       "      <td>0.0</td>\n",
       "      <td>7500.0</td>\n",
       "      <td>NaN</td>\n",
       "      <td>NaN</td>\n",
       "      <td>NaN</td>\n",
       "      <td>NaN</td>\n",
       "      <td>NaN</td>\n",
       "      <td>NaN</td>\n",
       "      <td>NaN</td>\n",
       "      <td>NaN</td>\n",
       "      <td>NaN</td>\n",
       "      <td>NaN</td>\n",
       "      <td>NaN</td>\n",
       "      <td>N</td>\n",
       "      <td>NaN</td>\n",
       "      <td>NaN</td>\n",
       "      <td>NaN</td>\n",
       "      <td>NaN</td>\n",
       "      <td>NaN</td>\n",
       "      <td>NaN</td>\n",
       "      <td>NaN</td>\n",
       "      <td>NaN</td>\n",
       "      <td>NaN</td>\n",
       "      <td>NaN</td>\n",
       "      <td>NaN</td>\n",
       "      <td>NaN</td>\n",
       "      <td>NaN</td>\n",
       "      <td>NaN</td>\n",
       "      <td>Cash</td>\n",
       "      <td>N</td>\n",
       "      <td>NaN</td>\n",
       "      <td>NaN</td>\n",
       "      <td>NaN</td>\n",
       "      <td>NaN</td>\n",
       "      <td>NaN</td>\n",
       "      <td>NaN</td>\n",
       "      <td>2018</td>\n",
       "      <td>4</td>\n",
       "    </tr>\n",
       "    <tr>\n",
       "      <th>3</th>\n",
       "      <td>343487</td>\n",
       "      <td>NaN</td>\n",
       "      <td>NaN</td>\n",
       "      <td>5000</td>\n",
       "      <td>5000</td>\n",
       "      <td>5000.0</td>\n",
       "      <td>36 months</td>\n",
       "      <td>13.58</td>\n",
       "      <td>169.87</td>\n",
       "      <td>C</td>\n",
       "      <td>C2</td>\n",
       "      <td>Driver</td>\n",
       "      <td>10+ years</td>\n",
       "      <td>RENT</td>\n",
       "      <td>45000.0</td>\n",
       "      <td>Source Verified</td>\n",
       "      <td>2018-04-01</td>\n",
       "      <td>Current</td>\n",
       "      <td>n</td>\n",
       "      <td>NaN</td>\n",
       "      <td>NaN</td>\n",
       "      <td>debt_consolidation</td>\n",
       "      <td>Debt consolidation</td>\n",
       "      <td>850xx</td>\n",
       "      <td>AZ</td>\n",
       "      <td>14.83</td>\n",
       "      <td>1.0</td>\n",
       "      <td>Jan-1995</td>\n",
       "      <td>2.0</td>\n",
       "      <td>21.0</td>\n",
       "      <td>NaN</td>\n",
       "      <td>6.0</td>\n",
       "      <td>0.0</td>\n",
       "      <td>2202</td>\n",
       "      <td>25.0</td>\n",
       "      <td>15.0</td>\n",
       "      <td>w</td>\n",
       "      <td>3933.03</td>\n",
       "      <td>3933.03</td>\n",
       "      <td>1525.06</td>\n",
       "      <td>1525.06</td>\n",
       "      <td>1066.97</td>\n",
       "      <td>458.09</td>\n",
       "      <td>0.0</td>\n",
       "      <td>0.0</td>\n",
       "      <td>0.0</td>\n",
       "      <td>Feb-2019</td>\n",
       "      <td>169.87</td>\n",
       "      <td>Mar-2019</td>\n",
       "      <td>Feb-2019</td>\n",
       "      <td>0.0</td>\n",
       "      <td>NaN</td>\n",
       "      <td>1</td>\n",
       "      <td>Individual</td>\n",
       "      <td>NaN</td>\n",
       "      <td>NaN</td>\n",
       "      <td>NaN</td>\n",
       "      <td>0.0</td>\n",
       "      <td>310.0</td>\n",
       "      <td>230026.0</td>\n",
       "      <td>1.0</td>\n",
       "      <td>2.0</td>\n",
       "      <td>0.0</td>\n",
       "      <td>2.0</td>\n",
       "      <td>20.0</td>\n",
       "      <td>13136.0</td>\n",
       "      <td>75.0</td>\n",
       "      <td>3.0</td>\n",
       "      <td>3.0</td>\n",
       "      <td>0.0</td>\n",
       "      <td>58.0</td>\n",
       "      <td>8800.0</td>\n",
       "      <td>1.0</td>\n",
       "      <td>1.0</td>\n",
       "      <td>2.0</td>\n",
       "      <td>5.0</td>\n",
       "      <td>38338.0</td>\n",
       "      <td>NaN</td>\n",
       "      <td>NaN</td>\n",
       "      <td>0.0</td>\n",
       "      <td>0.0</td>\n",
       "      <td>157.0</td>\n",
       "      <td>175.0</td>\n",
       "      <td>4.0</td>\n",
       "      <td>4.0</td>\n",
       "      <td>1.0</td>\n",
       "      <td>NaN</td>\n",
       "      <td>NaN</td>\n",
       "      <td>0.0</td>\n",
       "      <td>21.0</td>\n",
       "      <td>0.0</td>\n",
       "      <td>0.0</td>\n",
       "      <td>2.0</td>\n",
       "      <td>0.0</td>\n",
       "      <td>3.0</td>\n",
       "      <td>4.0</td>\n",
       "      <td>3.0</td>\n",
       "      <td>8.0</td>\n",
       "      <td>2.0</td>\n",
       "      <td>6.0</td>\n",
       "      <td>0.0</td>\n",
       "      <td>0.0</td>\n",
       "      <td>0.0</td>\n",
       "      <td>3.0</td>\n",
       "      <td>93.3</td>\n",
       "      <td>NaN</td>\n",
       "      <td>0.0</td>\n",
       "      <td>0.0</td>\n",
       "      <td>249136.0</td>\n",
       "      <td>15338.0</td>\n",
       "      <td>0.0</td>\n",
       "      <td>17448.0</td>\n",
       "      <td>NaN</td>\n",
       "      <td>NaN</td>\n",
       "      <td>NaN</td>\n",
       "      <td>NaN</td>\n",
       "      <td>NaN</td>\n",
       "      <td>NaN</td>\n",
       "      <td>NaN</td>\n",
       "      <td>NaN</td>\n",
       "      <td>NaN</td>\n",
       "      <td>NaN</td>\n",
       "      <td>NaN</td>\n",
       "      <td>N</td>\n",
       "      <td>NaN</td>\n",
       "      <td>NaN</td>\n",
       "      <td>NaN</td>\n",
       "      <td>NaN</td>\n",
       "      <td>NaN</td>\n",
       "      <td>NaN</td>\n",
       "      <td>NaN</td>\n",
       "      <td>NaN</td>\n",
       "      <td>NaN</td>\n",
       "      <td>NaN</td>\n",
       "      <td>NaN</td>\n",
       "      <td>NaN</td>\n",
       "      <td>NaN</td>\n",
       "      <td>NaN</td>\n",
       "      <td>Cash</td>\n",
       "      <td>N</td>\n",
       "      <td>NaN</td>\n",
       "      <td>NaN</td>\n",
       "      <td>NaN</td>\n",
       "      <td>NaN</td>\n",
       "      <td>NaN</td>\n",
       "      <td>NaN</td>\n",
       "      <td>2018</td>\n",
       "      <td>4</td>\n",
       "    </tr>\n",
       "    <tr>\n",
       "      <th>4</th>\n",
       "      <td>343489</td>\n",
       "      <td>NaN</td>\n",
       "      <td>NaN</td>\n",
       "      <td>28000</td>\n",
       "      <td>28000</td>\n",
       "      <td>28000.0</td>\n",
       "      <td>60 months</td>\n",
       "      <td>10.90</td>\n",
       "      <td>607.40</td>\n",
       "      <td>B</td>\n",
       "      <td>B4</td>\n",
       "      <td>Radiologic Technologist</td>\n",
       "      <td>4 years</td>\n",
       "      <td>MORTGAGE</td>\n",
       "      <td>60000.0</td>\n",
       "      <td>Verified</td>\n",
       "      <td>2018-04-01</td>\n",
       "      <td>Current</td>\n",
       "      <td>n</td>\n",
       "      <td>NaN</td>\n",
       "      <td>NaN</td>\n",
       "      <td>credit_card</td>\n",
       "      <td>Credit card refinancing</td>\n",
       "      <td>218xx</td>\n",
       "      <td>MD</td>\n",
       "      <td>35.18</td>\n",
       "      <td>0.0</td>\n",
       "      <td>Jun-2005</td>\n",
       "      <td>0.0</td>\n",
       "      <td>NaN</td>\n",
       "      <td>NaN</td>\n",
       "      <td>8.0</td>\n",
       "      <td>0.0</td>\n",
       "      <td>21065</td>\n",
       "      <td>92.0</td>\n",
       "      <td>25.0</td>\n",
       "      <td>w</td>\n",
       "      <td>24704.47</td>\n",
       "      <td>24704.47</td>\n",
       "      <td>5449.64</td>\n",
       "      <td>5449.64</td>\n",
       "      <td>3295.53</td>\n",
       "      <td>2154.11</td>\n",
       "      <td>0.0</td>\n",
       "      <td>0.0</td>\n",
       "      <td>0.0</td>\n",
       "      <td>Feb-2019</td>\n",
       "      <td>607.40</td>\n",
       "      <td>Mar-2019</td>\n",
       "      <td>Feb-2019</td>\n",
       "      <td>0.0</td>\n",
       "      <td>NaN</td>\n",
       "      <td>1</td>\n",
       "      <td>Joint App</td>\n",
       "      <td>119645.0</td>\n",
       "      <td>24.68</td>\n",
       "      <td>Verified</td>\n",
       "      <td>0.0</td>\n",
       "      <td>0.0</td>\n",
       "      <td>319079.0</td>\n",
       "      <td>0.0</td>\n",
       "      <td>4.0</td>\n",
       "      <td>1.0</td>\n",
       "      <td>3.0</td>\n",
       "      <td>10.0</td>\n",
       "      <td>94395.0</td>\n",
       "      <td>88.0</td>\n",
       "      <td>0.0</td>\n",
       "      <td>0.0</td>\n",
       "      <td>10518.0</td>\n",
       "      <td>89.0</td>\n",
       "      <td>22900.0</td>\n",
       "      <td>1.0</td>\n",
       "      <td>0.0</td>\n",
       "      <td>0.0</td>\n",
       "      <td>4.0</td>\n",
       "      <td>39885.0</td>\n",
       "      <td>1835.0</td>\n",
       "      <td>92.0</td>\n",
       "      <td>0.0</td>\n",
       "      <td>0.0</td>\n",
       "      <td>154.0</td>\n",
       "      <td>148.0</td>\n",
       "      <td>31.0</td>\n",
       "      <td>10.0</td>\n",
       "      <td>4.0</td>\n",
       "      <td>31.0</td>\n",
       "      <td>NaN</td>\n",
       "      <td>22.0</td>\n",
       "      <td>NaN</td>\n",
       "      <td>0.0</td>\n",
       "      <td>3.0</td>\n",
       "      <td>3.0</td>\n",
       "      <td>3.0</td>\n",
       "      <td>4.0</td>\n",
       "      <td>13.0</td>\n",
       "      <td>3.0</td>\n",
       "      <td>8.0</td>\n",
       "      <td>3.0</td>\n",
       "      <td>8.0</td>\n",
       "      <td>0.0</td>\n",
       "      <td>0.0</td>\n",
       "      <td>0.0</td>\n",
       "      <td>1.0</td>\n",
       "      <td>100.0</td>\n",
       "      <td>100.0</td>\n",
       "      <td>0.0</td>\n",
       "      <td>0.0</td>\n",
       "      <td>346276.0</td>\n",
       "      <td>115460.0</td>\n",
       "      <td>22900.0</td>\n",
       "      <td>113376.0</td>\n",
       "      <td>35096.0</td>\n",
       "      <td>Oct-2005</td>\n",
       "      <td>2.0</td>\n",
       "      <td>4.0</td>\n",
       "      <td>22.0</td>\n",
       "      <td>71.8</td>\n",
       "      <td>9.0</td>\n",
       "      <td>19.0</td>\n",
       "      <td>0.0</td>\n",
       "      <td>0.0</td>\n",
       "      <td>NaN</td>\n",
       "      <td>N</td>\n",
       "      <td>NaN</td>\n",
       "      <td>NaN</td>\n",
       "      <td>NaN</td>\n",
       "      <td>NaN</td>\n",
       "      <td>NaN</td>\n",
       "      <td>NaN</td>\n",
       "      <td>NaN</td>\n",
       "      <td>NaN</td>\n",
       "      <td>NaN</td>\n",
       "      <td>NaN</td>\n",
       "      <td>NaN</td>\n",
       "      <td>NaN</td>\n",
       "      <td>NaN</td>\n",
       "      <td>NaN</td>\n",
       "      <td>Cash</td>\n",
       "      <td>N</td>\n",
       "      <td>NaN</td>\n",
       "      <td>NaN</td>\n",
       "      <td>NaN</td>\n",
       "      <td>NaN</td>\n",
       "      <td>NaN</td>\n",
       "      <td>NaN</td>\n",
       "      <td>2018</td>\n",
       "      <td>4</td>\n",
       "    </tr>\n",
       "  </tbody>\n",
       "</table>\n",
       "</div>"
      ],
      "text/plain": [
       "   Unnamed: 0  id  member_id  loan_amnt  funded_amnt  funded_amnt_inv  \\\n",
       "0      343481 NaN        NaN      16000        16000          16000.0   \n",
       "1      343482 NaN        NaN      28675        28675          28675.0   \n",
       "2      343486 NaN        NaN      35000        35000          35000.0   \n",
       "3      343487 NaN        NaN       5000         5000           5000.0   \n",
       "4      343489 NaN        NaN      28000        28000          28000.0   \n",
       "\n",
       "         term  int_rate  installment grade sub_grade                emp_title  \\\n",
       "0   36 months     18.45       582.06     D        D2                  Manager   \n",
       "1   60 months     26.77       871.67     E        E5                  officer   \n",
       "2   36 months     13.58      1189.09     C        C2          Medical billing   \n",
       "3   36 months     13.58       169.87     C        C2                   Driver   \n",
       "4   60 months     10.90       607.40     B        B4  Radiologic Technologist   \n",
       "\n",
       "  emp_length home_ownership  annual_inc verification_status     issue_d  \\\n",
       "0  10+ years           RENT     85000.0     Source Verified  2018-04-01   \n",
       "1  10+ years       MORTGAGE     78000.0            Verified  2018-04-01   \n",
       "2    4 years           RENT     32262.0     Source Verified  2018-04-01   \n",
       "3  10+ years           RENT     45000.0     Source Verified  2018-04-01   \n",
       "4    4 years       MORTGAGE     60000.0            Verified  2018-04-01   \n",
       "\n",
       "  loan_status pymnt_plan  url  desc             purpose  \\\n",
       "0     Current          n  NaN   NaN  debt_consolidation   \n",
       "1     Current          n  NaN   NaN  debt_consolidation   \n",
       "2     Current          n  NaN   NaN               other   \n",
       "3     Current          n  NaN   NaN  debt_consolidation   \n",
       "4     Current          n  NaN   NaN         credit_card   \n",
       "\n",
       "                     title zip_code addr_state    dti  delinq_2yrs  \\\n",
       "0       Debt consolidation    482xx         MI  12.97          1.0   \n",
       "1       Debt consolidation    114xx         NY  17.00          0.0   \n",
       "2                    Other    606xx         IL   4.35          0.0   \n",
       "3       Debt consolidation    850xx         AZ  14.83          1.0   \n",
       "4  Credit card refinancing    218xx         MD  35.18          0.0   \n",
       "\n",
       "  earliest_cr_line  inq_last_6mths  mths_since_last_delinq  \\\n",
       "0         Sep-2006             1.0                    20.0   \n",
       "1         Jul-2005             1.0                     NaN   \n",
       "2         Aug-2007             0.0                    68.0   \n",
       "3         Jan-1995             2.0                    21.0   \n",
       "4         Jun-2005             0.0                     NaN   \n",
       "\n",
       "   mths_since_last_record  open_acc  pub_rec  revol_bal  revol_util  \\\n",
       "0                     NaN      15.0      0.0       1156         4.0   \n",
       "1                     NaN      23.0      0.0      26933        69.4   \n",
       "2                     NaN       7.0      0.0        772        16.4   \n",
       "3                     NaN       6.0      0.0       2202        25.0   \n",
       "4                     NaN       8.0      0.0      21065        92.0   \n",
       "\n",
       "   total_acc initial_list_status  out_prncp  out_prncp_inv  total_pymnt  \\\n",
       "0       25.0                   w   12782.62       12782.62      5222.14   \n",
       "1       68.0                   w   26107.93       26107.93      8674.05   \n",
       "2       16.0                   w   15431.61       15431.61     22055.40   \n",
       "3       15.0                   w    3933.03        3933.03      1525.06   \n",
       "4       25.0                   w   24704.47       24704.47      5449.64   \n",
       "\n",
       "   total_pymnt_inv  total_rec_prncp  total_rec_int  total_rec_late_fee  \\\n",
       "0          5222.14          3217.38        2004.76                 0.0   \n",
       "1          8674.05          2567.07        6106.98                 0.0   \n",
       "2         22055.40         19568.39        2487.01                 0.0   \n",
       "3          1525.06          1066.97         458.09                 0.0   \n",
       "4          5449.64          3295.53        2154.11                 0.0   \n",
       "\n",
       "   recoveries  collection_recovery_fee last_pymnt_d  last_pymnt_amnt  \\\n",
       "0         0.0                      0.0     Feb-2019           582.06   \n",
       "1         0.0                      0.0     Feb-2019           871.67   \n",
       "2         0.0                      0.0     Feb-2019          1189.09   \n",
       "3         0.0                      0.0     Feb-2019           169.87   \n",
       "4         0.0                      0.0     Feb-2019           607.40   \n",
       "\n",
       "  next_pymnt_d last_credit_pull_d  collections_12_mths_ex_med  \\\n",
       "0     Mar-2019           Feb-2019                         1.0   \n",
       "1     Mar-2019           Feb-2019                         0.0   \n",
       "2     Mar-2019           Feb-2019                         0.0   \n",
       "3     Mar-2019           Feb-2019                         0.0   \n",
       "4     Mar-2019           Feb-2019                         0.0   \n",
       "\n",
       "   mths_since_last_major_derog  policy_code application_type  \\\n",
       "0                         20.0            1        Joint App   \n",
       "1                          NaN            1       Individual   \n",
       "2                         68.0            1       Individual   \n",
       "3                          NaN            1       Individual   \n",
       "4                          NaN            1        Joint App   \n",
       "\n",
       "   annual_inc_joint  dti_joint verification_status_joint  acc_now_delinq  \\\n",
       "0          155000.0      25.71           Source Verified             0.0   \n",
       "1               NaN        NaN                       NaN             0.0   \n",
       "2               NaN        NaN                       NaN             0.0   \n",
       "3               NaN        NaN                       NaN             0.0   \n",
       "4          119645.0      24.68                  Verified             0.0   \n",
       "\n",
       "   tot_coll_amt  tot_cur_bal  open_acc_6m  open_act_il  open_il_12m  \\\n",
       "0           0.0     106254.0          3.0          1.0          2.0   \n",
       "1           0.0     533522.0          1.0         15.0          0.0   \n",
       "2           0.0       1820.0          0.0          2.0          0.0   \n",
       "3         310.0     230026.0          1.0          2.0          0.0   \n",
       "4           0.0     319079.0          0.0          4.0          1.0   \n",
       "\n",
       "   open_il_24m  mths_since_rcnt_il  total_bal_il  il_util  open_rv_12m  \\\n",
       "0          3.0                 2.0       27811.0    100.0          1.0   \n",
       "1          0.0                36.0      156597.0    116.0          2.0   \n",
       "2          0.0                81.0        1048.0     14.0          0.0   \n",
       "3          2.0                20.0       13136.0     75.0          3.0   \n",
       "4          3.0                10.0       94395.0     88.0          0.0   \n",
       "\n",
       "   open_rv_24m  max_bal_bc  all_util  total_rev_hi_lim  inq_fi  total_cu_tl  \\\n",
       "0          5.0       402.0      51.0           29200.0     2.0          4.0   \n",
       "1          4.0     10540.0     105.0           38800.0     0.0          1.0   \n",
       "2          1.0         0.0      15.0            4700.0     0.0          0.0   \n",
       "3          3.0         0.0      58.0            8800.0     1.0          1.0   \n",
       "4          0.0     10518.0      89.0           22900.0     1.0          0.0   \n",
       "\n",
       "   inq_last_12m  acc_open_past_24mths  avg_cur_bal  bc_open_to_buy  bc_util  \\\n",
       "0           2.0                   9.0       7084.0         10763.0      7.2   \n",
       "1           1.0                   4.0      23197.0          6014.0     79.5   \n",
       "2           3.0                   1.0        303.0             NaN      NaN   \n",
       "3           2.0                   5.0      38338.0             NaN      NaN   \n",
       "4           0.0                   4.0      39885.0          1835.0     92.0   \n",
       "\n",
       "   chargeoff_within_12_mths  delinq_amnt  mo_sin_old_il_acct  \\\n",
       "0                       0.0          0.0               137.0   \n",
       "1                       0.0          0.0               153.0   \n",
       "2                       0.0          0.0               120.0   \n",
       "3                       0.0          0.0               157.0   \n",
       "4                       0.0          0.0               154.0   \n",
       "\n",
       "   mo_sin_old_rev_tl_op  mo_sin_rcnt_rev_tl_op  mo_sin_rcnt_tl  mort_acc  \\\n",
       "0                 139.0                    2.0             2.0       2.0   \n",
       "1                 128.0                    2.0             2.0       2.0   \n",
       "2                 128.0                   22.0            22.0       0.0   \n",
       "3                 175.0                    4.0             4.0       1.0   \n",
       "4                 148.0                   31.0            10.0       4.0   \n",
       "\n",
       "   mths_since_recent_bc  mths_since_recent_bc_dlq  mths_since_recent_inq  \\\n",
       "0                   2.0                       NaN                    2.0   \n",
       "1                   2.0                       NaN                    0.0   \n",
       "2                   NaN                      71.0                    1.0   \n",
       "3                   NaN                       NaN                    0.0   \n",
       "4                  31.0                       NaN                   22.0   \n",
       "\n",
       "   mths_since_recent_revol_delinq  num_accts_ever_120_pd  num_actv_bc_tl  \\\n",
       "0                             NaN                    1.0             3.0   \n",
       "1                             NaN                    0.0             4.0   \n",
       "2                            71.0                    1.0             0.0   \n",
       "3                            21.0                    0.0             0.0   \n",
       "4                             NaN                    0.0             3.0   \n",
       "\n",
       "   num_actv_rev_tl  num_bc_sats  num_bc_tl  num_il_tl  num_op_rev_tl  \\\n",
       "0              5.0          3.0        5.0        8.0           12.0   \n",
       "1              7.0          4.0       11.0       50.0            7.0   \n",
       "2              1.0          0.0        2.0        7.0            5.0   \n",
       "3              2.0          0.0        3.0        4.0            3.0   \n",
       "4              3.0          3.0        4.0       13.0            3.0   \n",
       "\n",
       "   num_rev_accts  num_rev_tl_bal_gt_0  num_sats  num_tl_120dpd_2m  \\\n",
       "0           15.0                  5.0      15.0               0.0   \n",
       "1           16.0                  7.0      23.0               0.0   \n",
       "2            8.0                  1.0       7.0               0.0   \n",
       "3            8.0                  2.0       6.0               0.0   \n",
       "4            8.0                  3.0       8.0               0.0   \n",
       "\n",
       "   num_tl_30dpd  num_tl_90g_dpd_24m  num_tl_op_past_12m  pct_tl_nvr_dlq  \\\n",
       "0           0.0                 1.0                 3.0            96.0   \n",
       "1           0.0                 0.0                 2.0           100.0   \n",
       "2           0.0                 0.0                 0.0            87.5   \n",
       "3           0.0                 0.0                 3.0            93.3   \n",
       "4           0.0                 0.0                 1.0           100.0   \n",
       "\n",
       "   percent_bc_gt_75  pub_rec_bankruptcies  tax_liens  tot_hi_cred_lim  \\\n",
       "0               0.0                   0.0        0.0         136334.0   \n",
       "1              75.0                   0.0        0.0         537686.0   \n",
       "2               NaN                   0.0        0.0          12200.0   \n",
       "3               NaN                   0.0        0.0         249136.0   \n",
       "4             100.0                   0.0        0.0         346276.0   \n",
       "\n",
       "   total_bal_ex_mort  total_bc_limit  total_il_high_credit_limit  \\\n",
       "0            28967.0         11600.0                     27934.0   \n",
       "1           183530.0         29300.0                    135639.0   \n",
       "2             1820.0             0.0                      7500.0   \n",
       "3            15338.0             0.0                     17448.0   \n",
       "4           115460.0         22900.0                    113376.0   \n",
       "\n",
       "   revol_bal_joint sec_app_earliest_cr_line  sec_app_inq_last_6mths  \\\n",
       "0          38618.0                 Mar-2007                     1.0   \n",
       "1              NaN                      NaN                     NaN   \n",
       "2              NaN                      NaN                     NaN   \n",
       "3              NaN                      NaN                     NaN   \n",
       "4          35096.0                 Oct-2005                     2.0   \n",
       "\n",
       "   sec_app_mort_acc  sec_app_open_acc  sec_app_revol_util  \\\n",
       "0               1.0              20.0                52.2   \n",
       "1               NaN               NaN                 NaN   \n",
       "2               NaN               NaN                 NaN   \n",
       "3               NaN               NaN                 NaN   \n",
       "4               4.0              22.0                71.8   \n",
       "\n",
       "   sec_app_open_act_il  sec_app_num_rev_accts  \\\n",
       "0                  5.0                   16.0   \n",
       "1                  NaN                    NaN   \n",
       "2                  NaN                    NaN   \n",
       "3                  NaN                    NaN   \n",
       "4                  9.0                   19.0   \n",
       "\n",
       "   sec_app_chargeoff_within_12_mths  sec_app_collections_12_mths_ex_med  \\\n",
       "0                               0.0                                 0.0   \n",
       "1                               NaN                                 NaN   \n",
       "2                               NaN                                 NaN   \n",
       "3                               NaN                                 NaN   \n",
       "4                               0.0                                 0.0   \n",
       "\n",
       "   sec_app_mths_since_last_major_derog hardship_flag hardship_type  \\\n",
       "0                                  NaN             N           NaN   \n",
       "1                                  NaN             N           NaN   \n",
       "2                                  NaN             N           NaN   \n",
       "3                                  NaN             N           NaN   \n",
       "4                                  NaN             N           NaN   \n",
       "\n",
       "  hardship_reason hardship_status  deferral_term  hardship_amount  \\\n",
       "0             NaN             NaN            NaN              NaN   \n",
       "1             NaN             NaN            NaN              NaN   \n",
       "2             NaN             NaN            NaN              NaN   \n",
       "3             NaN             NaN            NaN              NaN   \n",
       "4             NaN             NaN            NaN              NaN   \n",
       "\n",
       "  hardship_start_date hardship_end_date payment_plan_start_date  \\\n",
       "0                 NaN               NaN                     NaN   \n",
       "1                 NaN               NaN                     NaN   \n",
       "2                 NaN               NaN                     NaN   \n",
       "3                 NaN               NaN                     NaN   \n",
       "4                 NaN               NaN                     NaN   \n",
       "\n",
       "   hardship_length  hardship_dpd hardship_loan_status  \\\n",
       "0              NaN           NaN                  NaN   \n",
       "1              NaN           NaN                  NaN   \n",
       "2              NaN           NaN                  NaN   \n",
       "3              NaN           NaN                  NaN   \n",
       "4              NaN           NaN                  NaN   \n",
       "\n",
       "   orig_projected_additional_accrued_interest  hardship_payoff_balance_amount  \\\n",
       "0                                         NaN                             NaN   \n",
       "1                                         NaN                             NaN   \n",
       "2                                         NaN                             NaN   \n",
       "3                                         NaN                             NaN   \n",
       "4                                         NaN                             NaN   \n",
       "\n",
       "   hardship_last_payment_amount disbursement_method debt_settlement_flag  \\\n",
       "0                           NaN                Cash                    N   \n",
       "1                           NaN                Cash                    N   \n",
       "2                           NaN                Cash                    N   \n",
       "3                           NaN                Cash                    N   \n",
       "4                           NaN                Cash                    N   \n",
       "\n",
       "  debt_settlement_flag_date settlement_status settlement_date  \\\n",
       "0                       NaN               NaN             NaN   \n",
       "1                       NaN               NaN             NaN   \n",
       "2                       NaN               NaN             NaN   \n",
       "3                       NaN               NaN             NaN   \n",
       "4                       NaN               NaN             NaN   \n",
       "\n",
       "   settlement_amount  settlement_percentage  settlement_term  Year  Month  \n",
       "0                NaN                    NaN              NaN  2018      4  \n",
       "1                NaN                    NaN              NaN  2018      4  \n",
       "2                NaN                    NaN              NaN  2018      4  \n",
       "3                NaN                    NaN              NaN  2018      4  \n",
       "4                NaN                    NaN              NaN  2018      4  "
      ]
     },
     "execution_count": 140,
     "metadata": {},
     "output_type": "execute_result"
    }
   ],
   "source": [
    "df[df['last_pymnt_d']=='Feb-2019'].head()"
   ]
  },
  {
   "cell_type": "markdown",
   "metadata": {},
   "source": [
    "Conclusion:\n",
    "    1. dropped because issue_d is 2018, and last_pymnt_d is 2019 which cannot happen"
   ]
  },
  {
   "cell_type": "markdown",
   "metadata": {},
   "source": [
    "### column/Attribute_5: dti"
   ]
  },
  {
   "cell_type": "markdown",
   "metadata": {},
   "source": [
    "A ratio calculated using the borrower’s total monthly debt payments on the total debt obligations, excluding mortgage and the requested LC loan, divided by the borrower’s self-reported monthly income."
   ]
  },
  {
   "cell_type": "code",
   "execution_count": 37,
   "metadata": {},
   "outputs": [
    {
     "name": "stdout",
     "output_type": "stream",
     "text": [
      "count    150429.000000\n",
      "mean         19.616939\n",
      "std          21.248328\n",
      "min           0.000000\n",
      "25%          11.230000\n",
      "50%          17.650000\n",
      "75%          25.030000\n",
      "max         999.000000\n",
      "Name: dti, dtype: float64\n",
      "Skewness: 24.304971844626493\n",
      "No.of null values: 363\n"
     ]
    }
   ],
   "source": [
    "analyze_univariate_null(df['dti'])"
   ]
  },
  {
   "cell_type": "markdown",
   "metadata": {},
   "source": [
    "Conclusion:\n",
    "    1. We can try imputing from other variables \n",
    "    2. KNNimputer"
   ]
  },
  {
   "cell_type": "markdown",
   "metadata": {},
   "source": [
    "### Column/Attribute_6:mths_since_recent_bc"
   ]
  },
  {
   "cell_type": "markdown",
   "metadata": {},
   "source": [
    "Months since most recent bankcard account opened."
   ]
  },
  {
   "cell_type": "code",
   "execution_count": 38,
   "metadata": {
    "scrolled": true
   },
   "outputs": [
    {
     "name": "stdout",
     "output_type": "stream",
     "text": [
      "count    148831.000000\n",
      "mean         25.452567\n",
      "std          33.980333\n",
      "min           0.000000\n",
      "25%           6.000000\n",
      "50%          14.000000\n",
      "75%          30.000000\n",
      "max         661.000000\n",
      "Name: mths_since_recent_bc, dtype: float64\n",
      "Skewness: 3.68514893752507\n",
      "No.of null values: 1961\n"
     ]
    }
   ],
   "source": [
    "analyze_univariate_null(df['mths_since_recent_bc'])"
   ]
  },
  {
   "cell_type": "markdown",
   "metadata": {},
   "source": [
    "Conclusion:\n",
    "    1. KNNImputer"
   ]
  },
  {
   "cell_type": "markdown",
   "metadata": {},
   "source": [
    "### Column/Attribute_7: bc_open_to_buy"
   ]
  },
  {
   "cell_type": "markdown",
   "metadata": {},
   "source": [
    "Total open to buy on revolving bankcards."
   ]
  },
  {
   "cell_type": "code",
   "execution_count": 39,
   "metadata": {},
   "outputs": [
    {
     "name": "stdout",
     "output_type": "stream",
     "text": [
      "count    148705.000000\n",
      "mean      15265.307044\n",
      "std       19783.520786\n",
      "min           0.000000\n",
      "25%        2888.000000\n",
      "50%        8363.000000\n",
      "75%       19965.000000\n",
      "max      493101.000000\n",
      "Name: bc_open_to_buy, dtype: float64\n",
      "Skewness: 3.2147088021825656\n",
      "No.of null values: 2087\n"
     ]
    }
   ],
   "source": [
    "analyze_univariate_null(df['bc_open_to_buy'])"
   ]
  },
  {
   "cell_type": "markdown",
   "metadata": {},
   "source": [
    "Conclusion:\n",
    "    1. KNNImputer"
   ]
  },
  {
   "cell_type": "markdown",
   "metadata": {},
   "source": [
    "### Column/Attribute_8: percent_bc_gt_75"
   ]
  },
  {
   "cell_type": "markdown",
   "metadata": {},
   "source": [
    "Percentage of all bankcard accounts > 75% of limit."
   ]
  },
  {
   "cell_type": "code",
   "execution_count": 41,
   "metadata": {
    "scrolled": true
   },
   "outputs": [
    {
     "name": "stdout",
     "output_type": "stream",
     "text": [
      "count    148700.000000\n",
      "mean         32.500033\n",
      "std          34.942612\n",
      "min           0.000000\n",
      "25%           0.000000\n",
      "50%          25.000000\n",
      "75%          50.000000\n",
      "max         100.000000\n",
      "Name: percent_bc_gt_75, dtype: float64\n",
      "Skewness: 0.7374231517734474\n",
      "No.of null values: 2092\n"
     ]
    }
   ],
   "source": [
    "analyze_univariate_null(df['percent_bc_gt_75'])"
   ]
  },
  {
   "cell_type": "markdown",
   "metadata": {},
   "source": [
    "### Column/Attribute_9: bc_util"
   ]
  },
  {
   "cell_type": "markdown",
   "metadata": {},
   "source": [
    "Ratio of total current balance to high credit/credit limit for all bankcard accounts. Credit scoring companies consider this ratio when determining your credit score, and a low ratio is better for your score than a high ratio."
   ]
  },
  {
   "cell_type": "code",
   "execution_count": 42,
   "metadata": {
    "scrolled": false
   },
   "outputs": [
    {
     "name": "stdout",
     "output_type": "stream",
     "text": [
      "count    148640.000000\n",
      "mean         49.207354\n",
      "std          29.240776\n",
      "min           0.000000\n",
      "25%          25.000000\n",
      "50%          48.000000\n",
      "75%          73.900000\n",
      "max         201.600000\n",
      "Name: bc_util, dtype: float64\n",
      "Skewness: 0.06315863225296721\n",
      "No.of null values: 2152\n"
     ]
    }
   ],
   "source": [
    "analyze_univariate_null(df['bc_util'])"
   ]
  },
  {
   "cell_type": "markdown",
   "metadata": {},
   "source": [
    "### Column/Attribute_10: num_tl_120dpd_2m"
   ]
  },
  {
   "cell_type": "markdown",
   "metadata": {},
   "source": [
    "Number of accounts currently 120 days past due (updated in past 2 months)"
   ]
  },
  {
   "cell_type": "code",
   "execution_count": 44,
   "metadata": {},
   "outputs": [
    {
     "name": "stdout",
     "output_type": "stream",
     "text": [
      "count    146224.0\n",
      "mean          0.0\n",
      "std           0.0\n",
      "min           0.0\n",
      "25%           0.0\n",
      "50%           0.0\n",
      "75%           0.0\n",
      "max           0.0\n",
      "Name: num_tl_120dpd_2m, dtype: float64\n",
      "Skewness: 0\n",
      "No.of null values: 4568\n"
     ]
    }
   ],
   "source": [
    "analyze_univariate_null(df['num_tl_120dpd_2m'])"
   ]
  },
  {
   "cell_type": "markdown",
   "metadata": {},
   "source": [
    "Conclusion:\n",
    "        1.we can remove this variable completely as the only value is zero "
   ]
  },
  {
   "cell_type": "markdown",
   "metadata": {},
   "source": [
    "### Column/Attribute_11: mths_since_rcnt_il"
   ]
  },
  {
   "cell_type": "markdown",
   "metadata": {},
   "source": [
    "Months since most recent installment accounts opened"
   ]
  },
  {
   "cell_type": "code",
   "execution_count": 45,
   "metadata": {},
   "outputs": [
    {
     "name": "stdout",
     "output_type": "stream",
     "text": [
      "count    144906.000000\n",
      "mean         21.578968\n",
      "std          26.358755\n",
      "min           0.000000\n",
      "25%           7.000000\n",
      "50%          14.000000\n",
      "75%          25.000000\n",
      "max         507.000000\n",
      "Name: mths_since_rcnt_il, dtype: float64\n",
      "Skewness: 3.5288190332829648\n",
      "No.of null values: 5886\n"
     ]
    }
   ],
   "source": [
    "analyze_univariate_null(df['mths_since_rcnt_il'])"
   ]
  },
  {
   "cell_type": "markdown",
   "metadata": {},
   "source": [
    "### Column/Attribute_12: mo_sin_old_il_acct"
   ]
  },
  {
   "cell_type": "markdown",
   "metadata": {},
   "source": [
    "Months since oldest bank installment account opened"
   ]
  },
  {
   "cell_type": "code",
   "execution_count": 46,
   "metadata": {},
   "outputs": [
    {
     "name": "stdout",
     "output_type": "stream",
     "text": [
      "count    144906.000000\n",
      "mean        123.078361\n",
      "std          55.342328\n",
      "min           1.000000\n",
      "25%          86.000000\n",
      "50%         129.000000\n",
      "75%         154.000000\n",
      "max         565.000000\n",
      "Name: mo_sin_old_il_acct, dtype: float64\n",
      "Skewness: 0.30752551004163403\n",
      "No.of null values: 5886\n"
     ]
    }
   ],
   "source": [
    "analyze_univariate_null(df['mo_sin_old_il_acct'])"
   ]
  },
  {
   "cell_type": "markdown",
   "metadata": {},
   "source": [
    "### Column/Attribute_13: emp_length"
   ]
  },
  {
   "cell_type": "markdown",
   "metadata": {},
   "source": [
    "Employment length in years. Possible values are between 0 and 10 where 0 means less than one year and 10 means ten or more years."
   ]
  },
  {
   "cell_type": "code",
   "execution_count": 49,
   "metadata": {},
   "outputs": [
    {
     "name": "stdout",
     "output_type": "stream",
     "text": [
      "count        137926\n",
      "unique           11\n",
      "top       10+ years\n",
      "freq          50253\n",
      "Name: emp_length, dtype: object\n",
      "10+ years    50253\n",
      "2 years      14197\n",
      "3 years      12723\n",
      "< 1 year     10273\n",
      "1 year        9960\n",
      "4 years       9731\n",
      "5 years       9497\n",
      "6 years       6709\n",
      "7 years       5636\n",
      "8 years       4663\n",
      "9 years       4284\n",
      "Name: emp_length, dtype: int64\n",
      "No.of null values: 12866\n"
     ]
    }
   ],
   "source": [
    "analyze_univariate_null_cat(df['emp_length'])"
   ]
  },
  {
   "cell_type": "code",
   "execution_count": 145,
   "metadata": {},
   "outputs": [],
   "source": [
    "dff=df.loc[:,['emp_length','emp_title']]"
   ]
  },
  {
   "cell_type": "code",
   "execution_count": 149,
   "metadata": {
    "scrolled": true
   },
   "outputs": [
    {
     "data": {
      "text/html": [
       "<div>\n",
       "<style scoped>\n",
       "    .dataframe tbody tr th:only-of-type {\n",
       "        vertical-align: middle;\n",
       "    }\n",
       "\n",
       "    .dataframe tbody tr th {\n",
       "        vertical-align: top;\n",
       "    }\n",
       "\n",
       "    .dataframe thead th {\n",
       "        text-align: right;\n",
       "    }\n",
       "</style>\n",
       "<table border=\"1\" class=\"dataframe\">\n",
       "  <thead>\n",
       "    <tr style=\"text-align: right;\">\n",
       "      <th></th>\n",
       "      <th>emp_length</th>\n",
       "      <th>emp_title</th>\n",
       "    </tr>\n",
       "  </thead>\n",
       "  <tbody>\n",
       "    <tr>\n",
       "      <th>14</th>\n",
       "      <td>NaN</td>\n",
       "      <td>NaN</td>\n",
       "    </tr>\n",
       "    <tr>\n",
       "      <th>43</th>\n",
       "      <td>NaN</td>\n",
       "      <td>NaN</td>\n",
       "    </tr>\n",
       "    <tr>\n",
       "      <th>49</th>\n",
       "      <td>NaN</td>\n",
       "      <td>NaN</td>\n",
       "    </tr>\n",
       "    <tr>\n",
       "      <th>51</th>\n",
       "      <td>NaN</td>\n",
       "      <td>NaN</td>\n",
       "    </tr>\n",
       "    <tr>\n",
       "      <th>66</th>\n",
       "      <td>NaN</td>\n",
       "      <td>NaN</td>\n",
       "    </tr>\n",
       "  </tbody>\n",
       "</table>\n",
       "</div>"
      ],
      "text/plain": [
       "   emp_length emp_title\n",
       "14        NaN       NaN\n",
       "43        NaN       NaN\n",
       "49        NaN       NaN\n",
       "51        NaN       NaN\n",
       "66        NaN       NaN"
      ]
     },
     "execution_count": 149,
     "metadata": {},
     "output_type": "execute_result"
    }
   ],
   "source": [
    "dff[dff['emp_length'].isnull()].head()"
   ]
  },
  {
   "cell_type": "markdown",
   "metadata": {},
   "source": [
    "### Column/Attribute_14: emp_title"
   ]
  },
  {
   "cell_type": "markdown",
   "metadata": {},
   "source": [
    "Conclusion:\n",
    "    1.both emp_title and emp_length does not look like an important feature for model building"
   ]
  },
  {
   "cell_type": "markdown",
   "metadata": {},
   "source": [
    "### Column/Attribute_15: mths_since_recent_inq"
   ]
  },
  {
   "cell_type": "markdown",
   "metadata": {},
   "source": [
    "Months since most recent inquiry."
   ]
  },
  {
   "cell_type": "code",
   "execution_count": 51,
   "metadata": {
    "scrolled": true
   },
   "outputs": [
    {
     "name": "stdout",
     "output_type": "stream",
     "text": [
      "count    132061.000000\n",
      "mean          7.383732\n",
      "std           6.016793\n",
      "min           0.000000\n",
      "25%           2.000000\n",
      "50%           6.000000\n",
      "75%          11.000000\n",
      "max          25.000000\n",
      "Name: mths_since_recent_inq, dtype: float64\n",
      "Skewness: 0.8051993509356616\n",
      "No.of null values: 18731\n"
     ]
    }
   ],
   "source": [
    "analyze_univariate_null(df['mths_since_recent_inq'])"
   ]
  },
  {
   "cell_type": "markdown",
   "metadata": {},
   "source": [
    "### Column/Attribute_16: il_util"
   ]
  },
  {
   "cell_type": "markdown",
   "metadata": {},
   "source": [
    "Ratio of total current balance to high credit/credit limit on all install acct"
   ]
  },
  {
   "cell_type": "code",
   "execution_count": 52,
   "metadata": {
    "scrolled": true
   },
   "outputs": [
    {
     "name": "stdout",
     "output_type": "stream",
     "text": [
      "count    125736.000000\n",
      "mean         67.764849\n",
      "std          23.990640\n",
      "min           0.000000\n",
      "25%          53.000000\n",
      "50%          70.000000\n",
      "75%          84.000000\n",
      "max        1000.000000\n",
      "Name: il_util, dtype: float64\n",
      "Skewness: 0.6750495193944546\n",
      "No.of null values: 25056\n"
     ]
    }
   ],
   "source": [
    "analyze_univariate_null(df['il_util'])"
   ]
  },
  {
   "cell_type": "markdown",
   "metadata": {},
   "source": [
    "### Column/Attribute_17: next_pymnt_d"
   ]
  },
  {
   "cell_type": "code",
   "execution_count": 54,
   "metadata": {},
   "outputs": [
    {
     "name": "stdout",
     "output_type": "stream",
     "text": [
      "count       124791\n",
      "unique           3\n",
      "top       Mar-2019\n",
      "freq        124746\n",
      "Name: next_pymnt_d, dtype: object\n",
      "Mar-2019    124746\n",
      "Feb-2019        37\n",
      "Apr-2019         8\n",
      "Name: next_pymnt_d, dtype: int64\n",
      "No.of null values: 26001\n"
     ]
    }
   ],
   "source": [
    "analyze_univariate_null_cat(df['next_pymnt_d'])"
   ]
  },
  {
   "cell_type": "markdown",
   "metadata": {},
   "source": [
    "Conclusion:\n",
    "    1.we can substitute this by mode and does not look like a important feature"
   ]
  },
  {
   "cell_type": "markdown",
   "metadata": {},
   "source": [
    "### Column/Attribute_18: mths_since_last_delinq"
   ]
  },
  {
   "cell_type": "code",
   "execution_count": 55,
   "metadata": {},
   "outputs": [
    {
     "name": "stdout",
     "output_type": "stream",
     "text": [
      "count    66188.000000\n",
      "mean        36.846422\n",
      "std         21.796130\n",
      "min          0.000000\n",
      "25%         19.000000\n",
      "50%         34.000000\n",
      "75%         53.000000\n",
      "max        226.000000\n",
      "Name: mths_since_last_delinq, dtype: float64\n",
      "Skewness: 0.4037968835281117\n",
      "No.of null values: 84604\n"
     ]
    }
   ],
   "source": [
    "analyze_univariate_null(df['mths_since_last_delinq'])"
   ]
  },
  {
   "cell_type": "markdown",
   "metadata": {},
   "source": [
    "Conclsuion:\n",
    "    1.can be substituted my mean"
   ]
  },
  {
   "cell_type": "markdown",
   "metadata": {},
   "source": [
    "### Column/Attribute_19: mths_since_recent_revol_delinq"
   ]
  },
  {
   "cell_type": "code",
   "execution_count": 56,
   "metadata": {
    "scrolled": false
   },
   "outputs": [
    {
     "name": "stdout",
     "output_type": "stream",
     "text": [
      "count    43261.000000\n",
      "mean        37.592797\n",
      "std         21.936466\n",
      "min          0.000000\n",
      "25%         20.000000\n",
      "50%         35.000000\n",
      "75%         53.000000\n",
      "max        160.000000\n",
      "Name: mths_since_recent_revol_delinq, dtype: float64\n",
      "Skewness: 0.5365354575636386\n",
      "No.of null values: 107531\n"
     ]
    }
   ],
   "source": [
    "analyze_univariate_null(df['mths_since_recent_revol_delinq'])"
   ]
  },
  {
   "cell_type": "markdown",
   "metadata": {},
   "source": [
    "Conclusion:\n",
    "    1.we can substitute by median"
   ]
  },
  {
   "cell_type": "markdown",
   "metadata": {},
   "source": [
    "### Column/Attribute_20: mths_since_last_major_derog"
   ]
  },
  {
   "cell_type": "markdown",
   "metadata": {},
   "source": [
    "Months since most recent 90-day or worse rating"
   ]
  },
  {
   "cell_type": "code",
   "execution_count": 57,
   "metadata": {},
   "outputs": [
    {
     "name": "stdout",
     "output_type": "stream",
     "text": [
      "count    34812.000000\n",
      "mean        46.053947\n",
      "std         21.508095\n",
      "min          0.000000\n",
      "25%         29.000000\n",
      "50%         46.000000\n",
      "75%         63.000000\n",
      "max        226.000000\n",
      "Name: mths_since_last_major_derog, dtype: float64\n",
      "Skewness: 0.10559424048758623\n",
      "No.of null values: 115980\n"
     ]
    }
   ],
   "source": [
    "analyze_univariate_null(df['mths_since_last_major_derog'])"
   ]
  },
  {
   "cell_type": "markdown",
   "metadata": {},
   "source": [
    "Conclusion:\n",
    "    1. almost normal- we canreplace by mean or median"
   ]
  },
  {
   "cell_type": "markdown",
   "metadata": {},
   "source": [
    "### Column/Attribute_21: mths_since_recent_bc_dlq"
   ]
  },
  {
   "cell_type": "code",
   "execution_count": 58,
   "metadata": {
    "scrolled": true
   },
   "outputs": [
    {
     "name": "stdout",
     "output_type": "stream",
     "text": [
      "count    29826.000000\n",
      "mean        40.359116\n",
      "std         22.231105\n",
      "min          0.000000\n",
      "25%         23.000000\n",
      "50%         38.000000\n",
      "75%         57.000000\n",
      "max        194.000000\n",
      "Name: mths_since_recent_bc_dlq, dtype: float64\n",
      "Skewness: 0.46687905930006435\n",
      "No.of null values: 120966\n"
     ]
    }
   ],
   "source": [
    "analyze_univariate_null(df['mths_since_recent_bc_dlq'])"
   ]
  },
  {
   "cell_type": "markdown",
   "metadata": {},
   "source": [
    "Coclusion:\n",
    "    1. can be replaced by median"
   ]
  },
  {
   "cell_type": "markdown",
   "metadata": {},
   "source": [
    "### Column/Attribute_22: mths_since_last_record"
   ]
  },
  {
   "cell_type": "markdown",
   "metadata": {},
   "source": [
    "The number of months since the last public record."
   ]
  },
  {
   "cell_type": "code",
   "execution_count": 59,
   "metadata": {
    "scrolled": false
   },
   "outputs": [
    {
     "name": "stdout",
     "output_type": "stream",
     "text": [
      "count    20822.000000\n",
      "mean        79.545673\n",
      "std         24.745746\n",
      "min          1.000000\n",
      "25%         64.000000\n",
      "50%         84.000000\n",
      "75%         99.000000\n",
      "max        124.000000\n",
      "Name: mths_since_last_record, dtype: float64\n",
      "Skewness: -0.7124323526509065\n",
      "No.of null values: 129970\n"
     ]
    }
   ],
   "source": [
    "analyze_univariate_null(df['mths_since_last_record'])"
   ]
  },
  {
   "cell_type": "markdown",
   "metadata": {},
   "source": [
    "Conclusion:\n",
    "    1. KNNImputer"
   ]
  },
  {
   "cell_type": "markdown",
   "metadata": {},
   "source": [
    "### Column/Attribute_23: annual_inc_joint"
   ]
  },
  {
   "cell_type": "markdown",
   "metadata": {},
   "source": [
    "The combined self-reported annual income provided by the co-borrowers during registration"
   ]
  },
  {
   "cell_type": "code",
   "execution_count": 60,
   "metadata": {},
   "outputs": [
    {
     "name": "stdout",
     "output_type": "stream",
     "text": [
      "count    2.243900e+04\n",
      "mean     1.254809e+05\n",
      "std      6.657299e+04\n",
      "min      5.693510e+03\n",
      "25%      8.500000e+04\n",
      "50%      1.120000e+05\n",
      "75%      1.500000e+05\n",
      "max      1.200000e+06\n",
      "Name: annual_inc_joint, dtype: float64\n",
      "Skewness: 3.3458520217249403\n",
      "No.of null values: 128353\n"
     ]
    }
   ],
   "source": [
    "analyze_univariate_null(df['annual_inc_joint'])"
   ]
  },
  {
   "cell_type": "markdown",
   "metadata": {},
   "source": [
    "Conclusion:\n",
    "    1.may be knn or some other method or we need to transform and then see"
   ]
  },
  {
   "cell_type": "markdown",
   "metadata": {},
   "source": [
    "### Column/Attribute_24: verification_status_joint"
   ]
  },
  {
   "cell_type": "markdown",
   "metadata": {},
   "source": [
    "Indicates if the co-borrowers' joint income was verified by LC, not verified, or if the income source was verified"
   ]
  },
  {
   "cell_type": "code",
   "execution_count": 63,
   "metadata": {},
   "outputs": [
    {
     "name": "stdout",
     "output_type": "stream",
     "text": [
      "count            21989\n",
      "unique               3\n",
      "top       Not Verified\n",
      "freq             10025\n",
      "Name: verification_status_joint, dtype: object\n",
      "Not Verified       10025\n",
      "Source Verified     7131\n",
      "Verified            4833\n",
      "Name: verification_status_joint, dtype: int64\n",
      "No.of null values: 128803\n"
     ]
    }
   ],
   "source": [
    "analyze_univariate_null_cat(df['verification_status_joint'])"
   ]
  },
  {
   "cell_type": "markdown",
   "metadata": {},
   "source": [
    "### Column/Attribute_25: dti_joint"
   ]
  },
  {
   "cell_type": "markdown",
   "metadata": {},
   "source": [
    "A ratio calculated using the co-borrowers' total monthly payments on the total debt obligations, excluding mortgages and the requested LC loan, divided by the co-borrowers' combined self-reported monthly income\n"
   ]
  },
  {
   "cell_type": "code",
   "execution_count": 64,
   "metadata": {
    "scrolled": true
   },
   "outputs": [
    {
     "name": "stdout",
     "output_type": "stream",
     "text": [
      "count    22439.000000\n",
      "mean        19.614484\n",
      "std          8.041596\n",
      "min          0.000000\n",
      "25%         13.670000\n",
      "50%         19.190000\n",
      "75%         25.210000\n",
      "max         39.980000\n",
      "Name: dti_joint, dtype: float64\n",
      "Skewness: 0.19218998796047967\n",
      "No.of null values: 128353\n"
     ]
    }
   ],
   "source": [
    "analyze_univariate_null(df['dti_joint'])"
   ]
  },
  {
   "cell_type": "markdown",
   "metadata": {},
   "source": [
    "Coclusion:1. with median we can replace"
   ]
  },
  {
   "cell_type": "markdown",
   "metadata": {},
   "source": [
    "### Column/Attribute_25: dti_joint"
   ]
  },
  {
   "cell_type": "markdown",
   "metadata": {},
   "source": [
    "Sum of revolving credit balance of the co-borrowers, net of duplicate balances"
   ]
  },
  {
   "cell_type": "code",
   "execution_count": 65,
   "metadata": {},
   "outputs": [
    {
     "name": "stdout",
     "output_type": "stream",
     "text": [
      "count     22439.000000\n",
      "mean      34401.867686\n",
      "std       28285.987159\n",
      "min           0.000000\n",
      "25%       15543.000000\n",
      "50%       27338.000000\n",
      "75%       44831.000000\n",
      "max      371153.000000\n",
      "Name: revol_bal_joint, dtype: float64\n",
      "Skewness: 2.403735344298874\n",
      "No.of null values: 128353\n"
     ]
    }
   ],
   "source": [
    "analyze_univariate_null(df['revol_bal_joint'])"
   ]
  },
  {
   "cell_type": "markdown",
   "metadata": {},
   "source": [
    "### Column/Attribute_26: sec_app_earliest_cr_line"
   ]
  },
  {
   "cell_type": "markdown",
   "metadata": {},
   "source": [
    "Earliest credit line at time of application for the secondary applicant"
   ]
  },
  {
   "cell_type": "code",
   "execution_count": 67,
   "metadata": {},
   "outputs": [
    {
     "name": "stdout",
     "output_type": "stream",
     "text": [
      "count        22439\n",
      "unique         581\n",
      "top       Aug-2006\n",
      "freq           230\n",
      "Name: sec_app_earliest_cr_line, dtype: object\n",
      "No.of null values: 128353\n"
     ]
    }
   ],
   "source": [
    "analyze_univariate_null_dt(df['sec_app_earliest_cr_line'])"
   ]
  },
  {
   "cell_type": "markdown",
   "metadata": {},
   "source": [
    "Conclusion:\n",
    "knn imputator for missing values- only numeric values ,when we dont know which one to substitute and the difference between mean and median is large"
   ]
  },
  {
   "cell_type": "markdown",
   "metadata": {},
   "source": [
    "### Column/Attribute_27: last_credit_pull_d"
   ]
  },
  {
   "cell_type": "code",
   "execution_count": 68,
   "metadata": {},
   "outputs": [
    {
     "name": "stdout",
     "output_type": "stream",
     "text": [
      "count       150791\n",
      "unique          16\n",
      "top       Feb-2019\n",
      "freq        134123\n",
      "Name: last_credit_pull_d, dtype: object\n",
      "Feb-2019    134123\n",
      "Jan-2019      3902\n",
      "Dec-2018      2343\n",
      "Nov-2018      2029\n",
      "Oct-2018      1838\n",
      "Jul-2018      1413\n",
      "Sep-2018      1264\n",
      "Aug-2018      1082\n",
      "Apr-2018       636\n",
      "Mar-2018       611\n",
      "May-2018       556\n",
      "Feb-2018       446\n",
      "Jan-2018       395\n",
      "Jun-2018        82\n",
      "Dec-2017        70\n",
      "Nov-2017         1\n",
      "Name: last_credit_pull_d, dtype: int64\n",
      "No.of null values: 1\n"
     ]
    }
   ],
   "source": [
    "analyze_univariate_null_cat(df['last_credit_pull_d'])"
   ]
  },
  {
   "cell_type": "markdown",
   "metadata": {},
   "source": [
    "### Column/Attribute_28: pct_tl_nvr_dlq"
   ]
  },
  {
   "cell_type": "markdown",
   "metadata": {},
   "source": [
    "Percent of trades never delinquent"
   ]
  },
  {
   "cell_type": "code",
   "execution_count": 69,
   "metadata": {},
   "outputs": [
    {
     "name": "stdout",
     "output_type": "stream",
     "text": [
      "count    150791.000000\n",
      "mean         94.620369\n",
      "std           9.087760\n",
      "min           0.000000\n",
      "25%          92.300000\n",
      "50%         100.000000\n",
      "75%         100.000000\n",
      "max         100.000000\n",
      "Name: pct_tl_nvr_dlq, dtype: float64\n",
      "Skewness: -2.523451003712344\n",
      "No.of null values: 1\n"
     ]
    }
   ],
   "source": [
    "analyze_univariate_null(df['pct_tl_nvr_dlq'])"
   ]
  }
 ],
 "metadata": {
  "kernelspec": {
   "display_name": "Python 3",
   "language": "python",
   "name": "python3"
  },
  "language_info": {
   "codemirror_mode": {
    "name": "ipython",
    "version": 3
   },
   "file_extension": ".py",
   "mimetype": "text/x-python",
   "name": "python",
   "nbconvert_exporter": "python",
   "pygments_lexer": "ipython3",
   "version": "3.7.4"
  }
 },
 "nbformat": 4,
 "nbformat_minor": 4
}
