{
 "cells": [
  {
   "cell_type": "code",
   "execution_count": null,
   "metadata": {
    "id": "--tBABJL1J0E"
   },
   "outputs": [],
   "source": [
    "import numpy as np\n",
    "import pandas as pd\n",
    "import matplotlib.pyplot as plt \n",
    "import seaborn as sns \n",
    "import matplotlib\n",
    "from sklearn.impute import KNNImputer\n",
    "from sklearn.tree import DecisionTreeClassifier\n",
    "import warnings\n",
    "warnings.filterwarnings('ignore')\n",
    "from sklearn import metrics\n",
    "from sklearn.ensemble import RandomForestClassifier\n",
    "from sklearn.linear_model import LogisticRegression\n",
    "from sklearn.model_selection import train_test_split\n",
    "from sklearn.preprocessing import StandardScaler\n",
    "from sklearn.model_selection import cross_val_score\n",
    "from sklearn.pipeline import Pipeline\n",
    "from sklearn.ensemble import GradientBoostingClassifier\n",
    "from sklearn.metrics import confusion_matrix,classification_report\n",
    "from sklearn.metrics import precision_score,recall_score,f1_score,cohen_kappa_score\n",
    "import statsmodels.api as sm\n",
    "from sklearn.metrics import roc_curve, auc\n",
    "from sklearn.preprocessing import LabelEncoder\n",
    "from sklearn.impute import SimpleImputer\n",
    "from sklearn.preprocessing import PowerTransformer\n",
    "from sklearn.model_selection import cross_val_score\n",
    "import pylab as pl\n",
    "pd.options.display.max_rows=None\n",
    "pd.options.display.max_columns=None\n",
    "from xgboost import XGBClassifier\n",
    "from sklearn.preprocessing import StandardScaler\n",
    "from sklearn.ensemble import AdaBoostClassifier\n",
    "from sklearn.naive_bayes import GaussianNB\n",
    "from sklearn.model_selection import GridSearchCV\n",
    "from sklearn.neighbors import KNeighborsClassifier"
   ]
  },
  {
   "cell_type": "code",
   "execution_count": null,
   "metadata": {
    "colab": {
     "base_uri": "https://localhost:8080/"
    },
    "id": "cRWhbMUl1UE0",
    "outputId": "af64b594-e02e-4a3c-e28b-6c2c64947bbe"
   },
   "outputs": [
    {
     "name": "stdout",
     "output_type": "stream",
     "text": [
      "Mounted at /content/drive\n"
     ]
    }
   ],
   "source": [
    "from google.colab import drive\n",
    "drive.mount('/content/drive')"
   ]
  },
  {
   "cell_type": "code",
   "execution_count": null,
   "metadata": {
    "id": "lUb3Wi-31UHK"
   },
   "outputs": [],
   "source": [
    "#df1 = pd.read_csv('/content/drive/My Drive/Colab Notebooks/Final_Cleaned.csv')\n",
    "df1 = pd.read_csv('/content/drive/My Drive/Colab Notebooks/Final_Cleaned.csv')"
   ]
  },
  {
   "cell_type": "code",
   "execution_count": null,
   "metadata": {
    "id": "xsEpvmvZ1UL6"
   },
   "outputs": [],
   "source": [
    "df=df1[['Unnamed: 0.1.1',\n",
    "'loan_amnt',\n",
    "'term',\n",
    "'int_rate',\n",
    "'installment',\n",
    "'sub_grade',\n",
    "'home_ownership',\n",
    "'annual_inc',\n",
    "'verification_status',\n",
    "'purpose',\n",
    "'delinq_2yrs',\n",
    "'open_acc',\n",
    "'pub_rec',\n",
    "'revol_bal',\n",
    "'total_acc',\n",
    "'initial_list_status',\n",
    "'out_prncp',\n",
    "'total_pymnt',\n",
    "'total_rec_prncp',\n",
    "'total_rec_int',\n",
    "'total_rec_late_fee',\n",
    "'last_pymnt_amnt',\n",
    "'application_type',\n",
    "'tot_coll_amt',\n",
    "'tot_cur_bal',\n",
    "'open_acc_6m',\n",
    "'open_act_il',\n",
    "'open_il_12m',\n",
    "'open_il_24m',\n",
    "'total_bal_il',\n",
    "'open_rv_12m',\n",
    "'open_rv_24m',\n",
    "'max_bal_bc',\n",
    "'total_rev_hi_lim',\n",
    "'inq_fi',\n",
    "'total_cu_tl',\n",
    "'inq_last_12m',\n",
    "'acc_open_past_24mths',\n",
    "'mo_sin_old_rev_tl_op',\n",
    "'mo_sin_rcnt_rev_tl_op',\n",
    "'mo_sin_rcnt_tl',\n",
    "'mort_acc',\n",
    "'num_accts_ever_120_pd',\n",
    "'num_actv_bc_tl',\n",
    "'num_actv_rev_tl',\n",
    "'num_bc_sats',\n",
    "'num_bc_tl',\n",
    "'num_il_tl',\n",
    "'num_op_rev_tl',\n",
    "'num_rev_accts',\n",
    "'num_rev_tl_bal_gt_0',\n",
    "'num_sats',\n",
    "'num_tl_op_past_12m',\n",
    "'pub_rec_bankruptcies',\n",
    "'tot_hi_cred_lim',\n",
    "'total_bal_ex_mort',\n",
    "'total_bc_limit',\n",
    "'total_il_high_credit_limit',\n",
    "'disbursement_method',\n",
    "'loan_status',\n",
    "'il_util',\n",
    "'mths_since_recent_inq',\n",
    "'mths_since_rcnt_il',\n",
    "'mo_sin_old_il_acct',\n",
    "'bc_util',\n",
    "'percent_bc_gt_75',\n",
    "'bc_open_to_buy',\n",
    "'mths_since_recent_bc',\n",
    "'dti',\n",
    "'revol_util',\n",
    "'all_util',\n",
    "'avg_cur_bal',\n",
    "'pct_tl_nvr_dlq']]"
   ]
  },
  {
   "cell_type": "code",
   "execution_count": null,
   "metadata": {
    "id": "jxElvQ181UOE"
   },
   "outputs": [],
   "source": [
    "df_c = df.copy(deep=True)"
   ]
  },
  {
   "cell_type": "code",
   "execution_count": null,
   "metadata": {
    "id": "FmpJ3D071UQj"
   },
   "outputs": [],
   "source": [
    "df_c = df_c.rename({'Unnamed: 0.1.1':'ID'}, axis=1)"
   ]
  },
  {
   "cell_type": "code",
   "execution_count": null,
   "metadata": {
    "colab": {
     "base_uri": "https://localhost:8080/",
     "height": 164
    },
    "id": "tZnP2JKH1USi",
    "outputId": "59cda1c5-a1c8-4de7-b12c-fc3d58adfb8a"
   },
   "outputs": [
    {
     "data": {
      "text/html": [
       "<div>\n",
       "<style scoped>\n",
       "    .dataframe tbody tr th:only-of-type {\n",
       "        vertical-align: middle;\n",
       "    }\n",
       "\n",
       "    .dataframe tbody tr th {\n",
       "        vertical-align: top;\n",
       "    }\n",
       "\n",
       "    .dataframe thead th {\n",
       "        text-align: right;\n",
       "    }\n",
       "</style>\n",
       "<table border=\"1\" class=\"dataframe\">\n",
       "  <thead>\n",
       "    <tr style=\"text-align: right;\">\n",
       "      <th></th>\n",
       "      <th>ID</th>\n",
       "      <th>loan_amnt</th>\n",
       "      <th>term</th>\n",
       "      <th>int_rate</th>\n",
       "      <th>installment</th>\n",
       "      <th>sub_grade</th>\n",
       "      <th>home_ownership</th>\n",
       "      <th>annual_inc</th>\n",
       "      <th>verification_status</th>\n",
       "      <th>purpose</th>\n",
       "      <th>delinq_2yrs</th>\n",
       "      <th>open_acc</th>\n",
       "      <th>pub_rec</th>\n",
       "      <th>revol_bal</th>\n",
       "      <th>total_acc</th>\n",
       "      <th>initial_list_status</th>\n",
       "      <th>out_prncp</th>\n",
       "      <th>total_pymnt</th>\n",
       "      <th>total_rec_prncp</th>\n",
       "      <th>total_rec_int</th>\n",
       "      <th>total_rec_late_fee</th>\n",
       "      <th>last_pymnt_amnt</th>\n",
       "      <th>application_type</th>\n",
       "      <th>tot_coll_amt</th>\n",
       "      <th>tot_cur_bal</th>\n",
       "      <th>open_acc_6m</th>\n",
       "      <th>open_act_il</th>\n",
       "      <th>open_il_12m</th>\n",
       "      <th>open_il_24m</th>\n",
       "      <th>total_bal_il</th>\n",
       "      <th>open_rv_12m</th>\n",
       "      <th>open_rv_24m</th>\n",
       "      <th>max_bal_bc</th>\n",
       "      <th>total_rev_hi_lim</th>\n",
       "      <th>inq_fi</th>\n",
       "      <th>total_cu_tl</th>\n",
       "      <th>inq_last_12m</th>\n",
       "      <th>acc_open_past_24mths</th>\n",
       "      <th>mo_sin_old_rev_tl_op</th>\n",
       "      <th>mo_sin_rcnt_rev_tl_op</th>\n",
       "      <th>mo_sin_rcnt_tl</th>\n",
       "      <th>mort_acc</th>\n",
       "      <th>num_accts_ever_120_pd</th>\n",
       "      <th>num_actv_bc_tl</th>\n",
       "      <th>num_actv_rev_tl</th>\n",
       "      <th>num_bc_sats</th>\n",
       "      <th>num_bc_tl</th>\n",
       "      <th>num_il_tl</th>\n",
       "      <th>num_op_rev_tl</th>\n",
       "      <th>num_rev_accts</th>\n",
       "      <th>num_rev_tl_bal_gt_0</th>\n",
       "      <th>num_sats</th>\n",
       "      <th>num_tl_op_past_12m</th>\n",
       "      <th>pub_rec_bankruptcies</th>\n",
       "      <th>tot_hi_cred_lim</th>\n",
       "      <th>total_bal_ex_mort</th>\n",
       "      <th>total_bc_limit</th>\n",
       "      <th>total_il_high_credit_limit</th>\n",
       "      <th>disbursement_method</th>\n",
       "      <th>loan_status</th>\n",
       "      <th>il_util</th>\n",
       "      <th>mths_since_recent_inq</th>\n",
       "      <th>mths_since_rcnt_il</th>\n",
       "      <th>mo_sin_old_il_acct</th>\n",
       "      <th>bc_util</th>\n",
       "      <th>percent_bc_gt_75</th>\n",
       "      <th>bc_open_to_buy</th>\n",
       "      <th>mths_since_recent_bc</th>\n",
       "      <th>dti</th>\n",
       "      <th>revol_util</th>\n",
       "      <th>all_util</th>\n",
       "      <th>avg_cur_bal</th>\n",
       "      <th>pct_tl_nvr_dlq</th>\n",
       "    </tr>\n",
       "  </thead>\n",
       "  <tbody>\n",
       "    <tr>\n",
       "      <th>0</th>\n",
       "      <td>343481</td>\n",
       "      <td>71.310442</td>\n",
       "      <td>36 months</td>\n",
       "      <td>2.794780</td>\n",
       "      <td>18.386629</td>\n",
       "      <td>D2</td>\n",
       "      <td>RENT</td>\n",
       "      <td>76.282376</td>\n",
       "      <td>Source Verified</td>\n",
       "      <td>debt_consolidation</td>\n",
       "      <td>1</td>\n",
       "      <td>3.493362</td>\n",
       "      <td>0</td>\n",
       "      <td>21.086054</td>\n",
       "      <td>5.252012</td>\n",
       "      <td>w</td>\n",
       "      <td>77.234847</td>\n",
       "      <td>15.828322</td>\n",
       "      <td>12.196131</td>\n",
       "      <td>28.918987</td>\n",
       "      <td>0.0</td>\n",
       "      <td>4.563472</td>\n",
       "      <td>Joint App</td>\n",
       "      <td>0</td>\n",
       "      <td>43.413863</td>\n",
       "      <td>3</td>\n",
       "      <td>1</td>\n",
       "      <td>2</td>\n",
       "      <td>3</td>\n",
       "      <td>65.932533</td>\n",
       "      <td>1</td>\n",
       "      <td>5</td>\n",
       "      <td>22.451932</td>\n",
       "      <td>37.714065</td>\n",
       "      <td>2</td>\n",
       "      <td>4</td>\n",
       "      <td>2</td>\n",
       "      <td>3.085858</td>\n",
       "      <td>14.460281</td>\n",
       "      <td>1.077967</td>\n",
       "      <td>1.068123</td>\n",
       "      <td>2</td>\n",
       "      <td>1</td>\n",
       "      <td>1.567930</td>\n",
       "      <td>2.060831</td>\n",
       "      <td>1.513386</td>\n",
       "      <td>2.028252</td>\n",
       "      <td>2.539273</td>\n",
       "      <td>2.900628</td>\n",
       "      <td>3.205608</td>\n",
       "      <td>2.088951</td>\n",
       "      <td>3.487390</td>\n",
       "      <td>1.427368</td>\n",
       "      <td>0</td>\n",
       "      <td>35.191359</td>\n",
       "      <td>54.301766</td>\n",
       "      <td>60.262431</td>\n",
       "      <td>90.793486</td>\n",
       "      <td>Cash</td>\n",
       "      <td>0</td>\n",
       "      <td>111.115238</td>\n",
       "      <td>1.315541</td>\n",
       "      <td>1.054226</td>\n",
       "      <td>76.777401</td>\n",
       "      <td>4.840865</td>\n",
       "      <td>0.000000</td>\n",
       "      <td>30.442814</td>\n",
       "      <td>1.082148</td>\n",
       "      <td>3.575261</td>\n",
       "      <td>2.888863</td>\n",
       "      <td>49.177635</td>\n",
       "      <td>17.857692</td>\n",
       "      <td>5.435560e+21</td>\n",
       "    </tr>\n",
       "    <tr>\n",
       "      <th>1</th>\n",
       "      <td>343482</td>\n",
       "      <td>87.134314</td>\n",
       "      <td>60 months</td>\n",
       "      <td>3.107894</td>\n",
       "      <td>21.092636</td>\n",
       "      <td>E5</td>\n",
       "      <td>MORTGAGE</td>\n",
       "      <td>74.441265</td>\n",
       "      <td>Verified</td>\n",
       "      <td>debt_consolidation</td>\n",
       "      <td>0</td>\n",
       "      <td>4.147580</td>\n",
       "      <td>0</td>\n",
       "      <td>54.144615</td>\n",
       "      <td>7.973929</td>\n",
       "      <td>w</td>\n",
       "      <td>100.229002</td>\n",
       "      <td>17.444102</td>\n",
       "      <td>11.711664</td>\n",
       "      <td>41.597367</td>\n",
       "      <td>0.0</td>\n",
       "      <td>4.757724</td>\n",
       "      <td>Individual</td>\n",
       "      <td>0</td>\n",
       "      <td>61.236392</td>\n",
       "      <td>1</td>\n",
       "      <td>15</td>\n",
       "      <td>0</td>\n",
       "      <td>0</td>\n",
       "      <td>112.009436</td>\n",
       "      <td>2</td>\n",
       "      <td>4</td>\n",
       "      <td>82.265507</td>\n",
       "      <td>40.381219</td>\n",
       "      <td>0</td>\n",
       "      <td>1</td>\n",
       "      <td>1</td>\n",
       "      <td>1.969564</td>\n",
       "      <td>13.939855</td>\n",
       "      <td>1.077967</td>\n",
       "      <td>1.068123</td>\n",
       "      <td>2</td>\n",
       "      <td>0</td>\n",
       "      <td>1.857586</td>\n",
       "      <td>2.447468</td>\n",
       "      <td>1.782384</td>\n",
       "      <td>2.954972</td>\n",
       "      <td>5.117636</td>\n",
       "      <td>2.296616</td>\n",
       "      <td>3.286357</td>\n",
       "      <td>2.486553</td>\n",
       "      <td>4.139374</td>\n",
       "      <td>1.124303</td>\n",
       "      <td>0</td>\n",
       "      <td>45.366029</td>\n",
       "      <td>91.225286</td>\n",
       "      <td>82.316757</td>\n",
       "      <td>156.824990</td>\n",
       "      <td>Cash</td>\n",
       "      <td>0</td>\n",
       "      <td>129.420802</td>\n",
       "      <td>0.000000</td>\n",
       "      <td>3.159992</td>\n",
       "      <td>84.409140</td>\n",
       "      <td>29.974483</td>\n",
       "      <td>6.091383</td>\n",
       "      <td>26.242790</td>\n",
       "      <td>1.082148</td>\n",
       "      <td>4.041209</td>\n",
       "      <td>24.150069</td>\n",
       "      <td>100.424977</td>\n",
       "      <td>22.452351</td>\n",
       "      <td>8.641666e+21</td>\n",
       "    </tr>\n",
       "  </tbody>\n",
       "</table>\n",
       "</div>"
      ],
      "text/plain": [
       "       ID  loan_amnt        term  int_rate  installment sub_grade  \\\n",
       "0  343481  71.310442   36 months  2.794780    18.386629        D2   \n",
       "1  343482  87.134314   60 months  3.107894    21.092636        E5   \n",
       "\n",
       "  home_ownership  annual_inc verification_status             purpose  \\\n",
       "0           RENT   76.282376     Source Verified  debt_consolidation   \n",
       "1       MORTGAGE   74.441265            Verified  debt_consolidation   \n",
       "\n",
       "   delinq_2yrs  open_acc  pub_rec  revol_bal  total_acc initial_list_status  \\\n",
       "0            1  3.493362        0  21.086054   5.252012                   w   \n",
       "1            0  4.147580        0  54.144615   7.973929                   w   \n",
       "\n",
       "    out_prncp  total_pymnt  total_rec_prncp  total_rec_int  \\\n",
       "0   77.234847    15.828322        12.196131      28.918987   \n",
       "1  100.229002    17.444102        11.711664      41.597367   \n",
       "\n",
       "   total_rec_late_fee  last_pymnt_amnt application_type  tot_coll_amt  \\\n",
       "0                 0.0         4.563472        Joint App             0   \n",
       "1                 0.0         4.757724       Individual             0   \n",
       "\n",
       "   tot_cur_bal  open_acc_6m  open_act_il  open_il_12m  open_il_24m  \\\n",
       "0    43.413863            3            1            2            3   \n",
       "1    61.236392            1           15            0            0   \n",
       "\n",
       "   total_bal_il  open_rv_12m  open_rv_24m  max_bal_bc  total_rev_hi_lim  \\\n",
       "0     65.932533            1            5   22.451932         37.714065   \n",
       "1    112.009436            2            4   82.265507         40.381219   \n",
       "\n",
       "   inq_fi  total_cu_tl  inq_last_12m  acc_open_past_24mths  \\\n",
       "0       2            4             2              3.085858   \n",
       "1       0            1             1              1.969564   \n",
       "\n",
       "   mo_sin_old_rev_tl_op  mo_sin_rcnt_rev_tl_op  mo_sin_rcnt_tl  mort_acc  \\\n",
       "0             14.460281               1.077967        1.068123         2   \n",
       "1             13.939855               1.077967        1.068123         2   \n",
       "\n",
       "   num_accts_ever_120_pd  num_actv_bc_tl  num_actv_rev_tl  num_bc_sats  \\\n",
       "0                      1        1.567930         2.060831     1.513386   \n",
       "1                      0        1.857586         2.447468     1.782384   \n",
       "\n",
       "   num_bc_tl  num_il_tl  num_op_rev_tl  num_rev_accts  num_rev_tl_bal_gt_0  \\\n",
       "0   2.028252   2.539273       2.900628       3.205608             2.088951   \n",
       "1   2.954972   5.117636       2.296616       3.286357             2.486553   \n",
       "\n",
       "   num_sats  num_tl_op_past_12m  pub_rec_bankruptcies  tot_hi_cred_lim  \\\n",
       "0  3.487390            1.427368                     0        35.191359   \n",
       "1  4.139374            1.124303                     0        45.366029   \n",
       "\n",
       "   total_bal_ex_mort  total_bc_limit  total_il_high_credit_limit  \\\n",
       "0          54.301766       60.262431                   90.793486   \n",
       "1          91.225286       82.316757                  156.824990   \n",
       "\n",
       "  disbursement_method  loan_status     il_util  mths_since_recent_inq  \\\n",
       "0                Cash            0  111.115238               1.315541   \n",
       "1                Cash            0  129.420802               0.000000   \n",
       "\n",
       "   mths_since_rcnt_il  mo_sin_old_il_acct    bc_util  percent_bc_gt_75  \\\n",
       "0            1.054226           76.777401   4.840865          0.000000   \n",
       "1            3.159992           84.409140  29.974483          6.091383   \n",
       "\n",
       "   bc_open_to_buy  mths_since_recent_bc       dti  revol_util    all_util  \\\n",
       "0       30.442814              1.082148  3.575261    2.888863   49.177635   \n",
       "1       26.242790              1.082148  4.041209   24.150069  100.424977   \n",
       "\n",
       "   avg_cur_bal  pct_tl_nvr_dlq  \n",
       "0    17.857692    5.435560e+21  \n",
       "1    22.452351    8.641666e+21  "
      ]
     },
     "execution_count": 7,
     "metadata": {},
     "output_type": "execute_result"
    }
   ],
   "source": [
    "df_c.head(2)"
   ]
  },
  {
   "cell_type": "code",
   "execution_count": null,
   "metadata": {
    "id": "gMKkGP6p1UUy"
   },
   "outputs": [],
   "source": [
    "df_c = df_c.set_index('ID')"
   ]
  },
  {
   "cell_type": "code",
   "execution_count": null,
   "metadata": {
    "colab": {
     "base_uri": "https://localhost:8080/",
     "height": 195
    },
    "id": "h-bw1DCt19vC",
    "outputId": "0d10fe45-ff3c-479f-8d9a-d8d54f53c03f"
   },
   "outputs": [
    {
     "data": {
      "text/html": [
       "<div>\n",
       "<style scoped>\n",
       "    .dataframe tbody tr th:only-of-type {\n",
       "        vertical-align: middle;\n",
       "    }\n",
       "\n",
       "    .dataframe tbody tr th {\n",
       "        vertical-align: top;\n",
       "    }\n",
       "\n",
       "    .dataframe thead th {\n",
       "        text-align: right;\n",
       "    }\n",
       "</style>\n",
       "<table border=\"1\" class=\"dataframe\">\n",
       "  <thead>\n",
       "    <tr style=\"text-align: right;\">\n",
       "      <th></th>\n",
       "      <th>loan_amnt</th>\n",
       "      <th>term</th>\n",
       "      <th>int_rate</th>\n",
       "      <th>installment</th>\n",
       "      <th>sub_grade</th>\n",
       "      <th>home_ownership</th>\n",
       "      <th>annual_inc</th>\n",
       "      <th>verification_status</th>\n",
       "      <th>purpose</th>\n",
       "      <th>delinq_2yrs</th>\n",
       "      <th>open_acc</th>\n",
       "      <th>pub_rec</th>\n",
       "      <th>revol_bal</th>\n",
       "      <th>total_acc</th>\n",
       "      <th>initial_list_status</th>\n",
       "      <th>out_prncp</th>\n",
       "      <th>total_pymnt</th>\n",
       "      <th>total_rec_prncp</th>\n",
       "      <th>total_rec_int</th>\n",
       "      <th>total_rec_late_fee</th>\n",
       "      <th>last_pymnt_amnt</th>\n",
       "      <th>application_type</th>\n",
       "      <th>tot_coll_amt</th>\n",
       "      <th>tot_cur_bal</th>\n",
       "      <th>open_acc_6m</th>\n",
       "      <th>open_act_il</th>\n",
       "      <th>open_il_12m</th>\n",
       "      <th>open_il_24m</th>\n",
       "      <th>total_bal_il</th>\n",
       "      <th>open_rv_12m</th>\n",
       "      <th>open_rv_24m</th>\n",
       "      <th>max_bal_bc</th>\n",
       "      <th>total_rev_hi_lim</th>\n",
       "      <th>inq_fi</th>\n",
       "      <th>total_cu_tl</th>\n",
       "      <th>inq_last_12m</th>\n",
       "      <th>acc_open_past_24mths</th>\n",
       "      <th>mo_sin_old_rev_tl_op</th>\n",
       "      <th>mo_sin_rcnt_rev_tl_op</th>\n",
       "      <th>mo_sin_rcnt_tl</th>\n",
       "      <th>mort_acc</th>\n",
       "      <th>num_accts_ever_120_pd</th>\n",
       "      <th>num_actv_bc_tl</th>\n",
       "      <th>num_actv_rev_tl</th>\n",
       "      <th>num_bc_sats</th>\n",
       "      <th>num_bc_tl</th>\n",
       "      <th>num_il_tl</th>\n",
       "      <th>num_op_rev_tl</th>\n",
       "      <th>num_rev_accts</th>\n",
       "      <th>num_rev_tl_bal_gt_0</th>\n",
       "      <th>num_sats</th>\n",
       "      <th>num_tl_op_past_12m</th>\n",
       "      <th>pub_rec_bankruptcies</th>\n",
       "      <th>tot_hi_cred_lim</th>\n",
       "      <th>total_bal_ex_mort</th>\n",
       "      <th>total_bc_limit</th>\n",
       "      <th>total_il_high_credit_limit</th>\n",
       "      <th>disbursement_method</th>\n",
       "      <th>loan_status</th>\n",
       "      <th>il_util</th>\n",
       "      <th>mths_since_recent_inq</th>\n",
       "      <th>mths_since_rcnt_il</th>\n",
       "      <th>mo_sin_old_il_acct</th>\n",
       "      <th>bc_util</th>\n",
       "      <th>percent_bc_gt_75</th>\n",
       "      <th>bc_open_to_buy</th>\n",
       "      <th>mths_since_recent_bc</th>\n",
       "      <th>dti</th>\n",
       "      <th>revol_util</th>\n",
       "      <th>all_util</th>\n",
       "      <th>avg_cur_bal</th>\n",
       "      <th>pct_tl_nvr_dlq</th>\n",
       "    </tr>\n",
       "    <tr>\n",
       "      <th>ID</th>\n",
       "      <th></th>\n",
       "      <th></th>\n",
       "      <th></th>\n",
       "      <th></th>\n",
       "      <th></th>\n",
       "      <th></th>\n",
       "      <th></th>\n",
       "      <th></th>\n",
       "      <th></th>\n",
       "      <th></th>\n",
       "      <th></th>\n",
       "      <th></th>\n",
       "      <th></th>\n",
       "      <th></th>\n",
       "      <th></th>\n",
       "      <th></th>\n",
       "      <th></th>\n",
       "      <th></th>\n",
       "      <th></th>\n",
       "      <th></th>\n",
       "      <th></th>\n",
       "      <th></th>\n",
       "      <th></th>\n",
       "      <th></th>\n",
       "      <th></th>\n",
       "      <th></th>\n",
       "      <th></th>\n",
       "      <th></th>\n",
       "      <th></th>\n",
       "      <th></th>\n",
       "      <th></th>\n",
       "      <th></th>\n",
       "      <th></th>\n",
       "      <th></th>\n",
       "      <th></th>\n",
       "      <th></th>\n",
       "      <th></th>\n",
       "      <th></th>\n",
       "      <th></th>\n",
       "      <th></th>\n",
       "      <th></th>\n",
       "      <th></th>\n",
       "      <th></th>\n",
       "      <th></th>\n",
       "      <th></th>\n",
       "      <th></th>\n",
       "      <th></th>\n",
       "      <th></th>\n",
       "      <th></th>\n",
       "      <th></th>\n",
       "      <th></th>\n",
       "      <th></th>\n",
       "      <th></th>\n",
       "      <th></th>\n",
       "      <th></th>\n",
       "      <th></th>\n",
       "      <th></th>\n",
       "      <th></th>\n",
       "      <th></th>\n",
       "      <th></th>\n",
       "      <th></th>\n",
       "      <th></th>\n",
       "      <th></th>\n",
       "      <th></th>\n",
       "      <th></th>\n",
       "      <th></th>\n",
       "      <th></th>\n",
       "      <th></th>\n",
       "      <th></th>\n",
       "      <th></th>\n",
       "      <th></th>\n",
       "      <th></th>\n",
       "    </tr>\n",
       "  </thead>\n",
       "  <tbody>\n",
       "    <tr>\n",
       "      <th>343481</th>\n",
       "      <td>71.310442</td>\n",
       "      <td>36 months</td>\n",
       "      <td>2.794780</td>\n",
       "      <td>18.386629</td>\n",
       "      <td>D2</td>\n",
       "      <td>RENT</td>\n",
       "      <td>76.282376</td>\n",
       "      <td>Source Verified</td>\n",
       "      <td>debt_consolidation</td>\n",
       "      <td>1</td>\n",
       "      <td>3.493362</td>\n",
       "      <td>0</td>\n",
       "      <td>21.086054</td>\n",
       "      <td>5.252012</td>\n",
       "      <td>w</td>\n",
       "      <td>77.234847</td>\n",
       "      <td>15.828322</td>\n",
       "      <td>12.196131</td>\n",
       "      <td>28.918987</td>\n",
       "      <td>0.0</td>\n",
       "      <td>4.563472</td>\n",
       "      <td>Joint App</td>\n",
       "      <td>0</td>\n",
       "      <td>43.413863</td>\n",
       "      <td>3</td>\n",
       "      <td>1</td>\n",
       "      <td>2</td>\n",
       "      <td>3</td>\n",
       "      <td>65.932533</td>\n",
       "      <td>1</td>\n",
       "      <td>5</td>\n",
       "      <td>22.451932</td>\n",
       "      <td>37.714065</td>\n",
       "      <td>2</td>\n",
       "      <td>4</td>\n",
       "      <td>2</td>\n",
       "      <td>3.085858</td>\n",
       "      <td>14.460281</td>\n",
       "      <td>1.077967</td>\n",
       "      <td>1.068123</td>\n",
       "      <td>2</td>\n",
       "      <td>1</td>\n",
       "      <td>1.567930</td>\n",
       "      <td>2.060831</td>\n",
       "      <td>1.513386</td>\n",
       "      <td>2.028252</td>\n",
       "      <td>2.539273</td>\n",
       "      <td>2.900628</td>\n",
       "      <td>3.205608</td>\n",
       "      <td>2.088951</td>\n",
       "      <td>3.487390</td>\n",
       "      <td>1.427368</td>\n",
       "      <td>0</td>\n",
       "      <td>35.191359</td>\n",
       "      <td>54.301766</td>\n",
       "      <td>60.262431</td>\n",
       "      <td>90.793486</td>\n",
       "      <td>Cash</td>\n",
       "      <td>0</td>\n",
       "      <td>111.115238</td>\n",
       "      <td>1.315541</td>\n",
       "      <td>1.054226</td>\n",
       "      <td>76.777401</td>\n",
       "      <td>4.840865</td>\n",
       "      <td>0.000000</td>\n",
       "      <td>30.442814</td>\n",
       "      <td>1.082148</td>\n",
       "      <td>3.575261</td>\n",
       "      <td>2.888863</td>\n",
       "      <td>49.177635</td>\n",
       "      <td>17.857692</td>\n",
       "      <td>5.435560e+21</td>\n",
       "    </tr>\n",
       "    <tr>\n",
       "      <th>343482</th>\n",
       "      <td>87.134314</td>\n",
       "      <td>60 months</td>\n",
       "      <td>3.107894</td>\n",
       "      <td>21.092636</td>\n",
       "      <td>E5</td>\n",
       "      <td>MORTGAGE</td>\n",
       "      <td>74.441265</td>\n",
       "      <td>Verified</td>\n",
       "      <td>debt_consolidation</td>\n",
       "      <td>0</td>\n",
       "      <td>4.147580</td>\n",
       "      <td>0</td>\n",
       "      <td>54.144615</td>\n",
       "      <td>7.973929</td>\n",
       "      <td>w</td>\n",
       "      <td>100.229002</td>\n",
       "      <td>17.444102</td>\n",
       "      <td>11.711664</td>\n",
       "      <td>41.597367</td>\n",
       "      <td>0.0</td>\n",
       "      <td>4.757724</td>\n",
       "      <td>Individual</td>\n",
       "      <td>0</td>\n",
       "      <td>61.236392</td>\n",
       "      <td>1</td>\n",
       "      <td>15</td>\n",
       "      <td>0</td>\n",
       "      <td>0</td>\n",
       "      <td>112.009436</td>\n",
       "      <td>2</td>\n",
       "      <td>4</td>\n",
       "      <td>82.265507</td>\n",
       "      <td>40.381219</td>\n",
       "      <td>0</td>\n",
       "      <td>1</td>\n",
       "      <td>1</td>\n",
       "      <td>1.969564</td>\n",
       "      <td>13.939855</td>\n",
       "      <td>1.077967</td>\n",
       "      <td>1.068123</td>\n",
       "      <td>2</td>\n",
       "      <td>0</td>\n",
       "      <td>1.857586</td>\n",
       "      <td>2.447468</td>\n",
       "      <td>1.782384</td>\n",
       "      <td>2.954972</td>\n",
       "      <td>5.117636</td>\n",
       "      <td>2.296616</td>\n",
       "      <td>3.286357</td>\n",
       "      <td>2.486553</td>\n",
       "      <td>4.139374</td>\n",
       "      <td>1.124303</td>\n",
       "      <td>0</td>\n",
       "      <td>45.366029</td>\n",
       "      <td>91.225286</td>\n",
       "      <td>82.316757</td>\n",
       "      <td>156.824990</td>\n",
       "      <td>Cash</td>\n",
       "      <td>0</td>\n",
       "      <td>129.420802</td>\n",
       "      <td>0.000000</td>\n",
       "      <td>3.159992</td>\n",
       "      <td>84.409140</td>\n",
       "      <td>29.974483</td>\n",
       "      <td>6.091383</td>\n",
       "      <td>26.242790</td>\n",
       "      <td>1.082148</td>\n",
       "      <td>4.041209</td>\n",
       "      <td>24.150069</td>\n",
       "      <td>100.424977</td>\n",
       "      <td>22.452351</td>\n",
       "      <td>8.641666e+21</td>\n",
       "    </tr>\n",
       "  </tbody>\n",
       "</table>\n",
       "</div>"
      ],
      "text/plain": [
       "        loan_amnt        term  int_rate  installment sub_grade home_ownership  \\\n",
       "ID                                                                              \n",
       "343481  71.310442   36 months  2.794780    18.386629        D2           RENT   \n",
       "343482  87.134314   60 months  3.107894    21.092636        E5       MORTGAGE   \n",
       "\n",
       "        annual_inc verification_status             purpose  delinq_2yrs  \\\n",
       "ID                                                                        \n",
       "343481   76.282376     Source Verified  debt_consolidation            1   \n",
       "343482   74.441265            Verified  debt_consolidation            0   \n",
       "\n",
       "        open_acc  pub_rec  revol_bal  total_acc initial_list_status  \\\n",
       "ID                                                                    \n",
       "343481  3.493362        0  21.086054   5.252012                   w   \n",
       "343482  4.147580        0  54.144615   7.973929                   w   \n",
       "\n",
       "         out_prncp  total_pymnt  total_rec_prncp  total_rec_int  \\\n",
       "ID                                                                \n",
       "343481   77.234847    15.828322        12.196131      28.918987   \n",
       "343482  100.229002    17.444102        11.711664      41.597367   \n",
       "\n",
       "        total_rec_late_fee  last_pymnt_amnt application_type  tot_coll_amt  \\\n",
       "ID                                                                           \n",
       "343481                 0.0         4.563472        Joint App             0   \n",
       "343482                 0.0         4.757724       Individual             0   \n",
       "\n",
       "        tot_cur_bal  open_acc_6m  open_act_il  open_il_12m  open_il_24m  \\\n",
       "ID                                                                        \n",
       "343481    43.413863            3            1            2            3   \n",
       "343482    61.236392            1           15            0            0   \n",
       "\n",
       "        total_bal_il  open_rv_12m  open_rv_24m  max_bal_bc  total_rev_hi_lim  \\\n",
       "ID                                                                             \n",
       "343481     65.932533            1            5   22.451932         37.714065   \n",
       "343482    112.009436            2            4   82.265507         40.381219   \n",
       "\n",
       "        inq_fi  total_cu_tl  inq_last_12m  acc_open_past_24mths  \\\n",
       "ID                                                                \n",
       "343481       2            4             2              3.085858   \n",
       "343482       0            1             1              1.969564   \n",
       "\n",
       "        mo_sin_old_rev_tl_op  mo_sin_rcnt_rev_tl_op  mo_sin_rcnt_tl  mort_acc  \\\n",
       "ID                                                                              \n",
       "343481             14.460281               1.077967        1.068123         2   \n",
       "343482             13.939855               1.077967        1.068123         2   \n",
       "\n",
       "        num_accts_ever_120_pd  num_actv_bc_tl  num_actv_rev_tl  num_bc_sats  \\\n",
       "ID                                                                            \n",
       "343481                      1        1.567930         2.060831     1.513386   \n",
       "343482                      0        1.857586         2.447468     1.782384   \n",
       "\n",
       "        num_bc_tl  num_il_tl  num_op_rev_tl  num_rev_accts  \\\n",
       "ID                                                           \n",
       "343481   2.028252   2.539273       2.900628       3.205608   \n",
       "343482   2.954972   5.117636       2.296616       3.286357   \n",
       "\n",
       "        num_rev_tl_bal_gt_0  num_sats  num_tl_op_past_12m  \\\n",
       "ID                                                          \n",
       "343481             2.088951  3.487390            1.427368   \n",
       "343482             2.486553  4.139374            1.124303   \n",
       "\n",
       "        pub_rec_bankruptcies  tot_hi_cred_lim  total_bal_ex_mort  \\\n",
       "ID                                                                 \n",
       "343481                     0        35.191359          54.301766   \n",
       "343482                     0        45.366029          91.225286   \n",
       "\n",
       "        total_bc_limit  total_il_high_credit_limit disbursement_method  \\\n",
       "ID                                                                       \n",
       "343481       60.262431                   90.793486                Cash   \n",
       "343482       82.316757                  156.824990                Cash   \n",
       "\n",
       "        loan_status     il_util  mths_since_recent_inq  mths_since_rcnt_il  \\\n",
       "ID                                                                           \n",
       "343481            0  111.115238               1.315541            1.054226   \n",
       "343482            0  129.420802               0.000000            3.159992   \n",
       "\n",
       "        mo_sin_old_il_acct    bc_util  percent_bc_gt_75  bc_open_to_buy  \\\n",
       "ID                                                                        \n",
       "343481           76.777401   4.840865          0.000000       30.442814   \n",
       "343482           84.409140  29.974483          6.091383       26.242790   \n",
       "\n",
       "        mths_since_recent_bc       dti  revol_util    all_util  avg_cur_bal  \\\n",
       "ID                                                                            \n",
       "343481              1.082148  3.575261    2.888863   49.177635    17.857692   \n",
       "343482              1.082148  4.041209   24.150069  100.424977    22.452351   \n",
       "\n",
       "        pct_tl_nvr_dlq  \n",
       "ID                      \n",
       "343481    5.435560e+21  \n",
       "343482    8.641666e+21  "
      ]
     },
     "execution_count": 9,
     "metadata": {},
     "output_type": "execute_result"
    }
   ],
   "source": [
    "df_c.head(2)"
   ]
  },
  {
   "cell_type": "code",
   "execution_count": null,
   "metadata": {
    "colab": {
     "base_uri": "https://localhost:8080/"
    },
    "id": "isTZlfP81UXE",
    "outputId": "3765e343-cbc3-44ec-c6bb-5c0a826fa633"
   },
   "outputs": [
    {
     "data": {
      "text/plain": [
       "loan_amnt                     0\n",
       "term                          0\n",
       "int_rate                      0\n",
       "installment                   0\n",
       "sub_grade                     0\n",
       "home_ownership                0\n",
       "annual_inc                    0\n",
       "verification_status           0\n",
       "purpose                       0\n",
       "delinq_2yrs                   0\n",
       "open_acc                      0\n",
       "pub_rec                       0\n",
       "revol_bal                     0\n",
       "total_acc                     0\n",
       "initial_list_status           0\n",
       "out_prncp                     0\n",
       "total_pymnt                   0\n",
       "total_rec_prncp               0\n",
       "total_rec_int                 0\n",
       "total_rec_late_fee            0\n",
       "last_pymnt_amnt               0\n",
       "application_type              0\n",
       "tot_coll_amt                  0\n",
       "tot_cur_bal                   0\n",
       "open_acc_6m                   0\n",
       "open_act_il                   0\n",
       "open_il_12m                   0\n",
       "open_il_24m                   0\n",
       "total_bal_il                  0\n",
       "open_rv_12m                   0\n",
       "open_rv_24m                   0\n",
       "max_bal_bc                    0\n",
       "total_rev_hi_lim              0\n",
       "inq_fi                        0\n",
       "total_cu_tl                   0\n",
       "inq_last_12m                  0\n",
       "acc_open_past_24mths          0\n",
       "mo_sin_old_rev_tl_op          0\n",
       "mo_sin_rcnt_rev_tl_op         0\n",
       "mo_sin_rcnt_tl                0\n",
       "mort_acc                      0\n",
       "num_accts_ever_120_pd         0\n",
       "num_actv_bc_tl                0\n",
       "num_actv_rev_tl               0\n",
       "num_bc_sats                   0\n",
       "num_bc_tl                     0\n",
       "num_il_tl                     0\n",
       "num_op_rev_tl                 0\n",
       "num_rev_accts                 0\n",
       "num_rev_tl_bal_gt_0           0\n",
       "num_sats                      0\n",
       "num_tl_op_past_12m            0\n",
       "pub_rec_bankruptcies          0\n",
       "tot_hi_cred_lim               0\n",
       "total_bal_ex_mort             0\n",
       "total_bc_limit                0\n",
       "total_il_high_credit_limit    0\n",
       "disbursement_method           0\n",
       "loan_status                   0\n",
       "il_util                       0\n",
       "mths_since_recent_inq         0\n",
       "mths_since_rcnt_il            0\n",
       "mo_sin_old_il_acct            0\n",
       "bc_util                       0\n",
       "percent_bc_gt_75              0\n",
       "bc_open_to_buy                0\n",
       "mths_since_recent_bc          0\n",
       "dti                           0\n",
       "revol_util                    0\n",
       "all_util                      0\n",
       "avg_cur_bal                   0\n",
       "pct_tl_nvr_dlq                0\n",
       "dtype: int64"
      ]
     },
     "execution_count": 10,
     "metadata": {},
     "output_type": "execute_result"
    }
   ],
   "source": [
    "df_c.isnull().sum()"
   ]
  },
  {
   "cell_type": "code",
   "execution_count": null,
   "metadata": {
    "id": "bUGWLene1UZs"
   },
   "outputs": [],
   "source": [
    "df_c = pd.get_dummies(df_c,drop_first=True)"
   ]
  },
  {
   "cell_type": "code",
   "execution_count": null,
   "metadata": {
    "id": "lHnOaPk22E3p"
   },
   "outputs": [],
   "source": [
    "X1=df_c.drop('loan_status',axis=1)"
   ]
  },
  {
   "cell_type": "code",
   "execution_count": null,
   "metadata": {
    "id": "sPj7W_iW1Ubs"
   },
   "outputs": [],
   "source": [
    "y1 = df_c[['loan_status']]"
   ]
  },
  {
   "cell_type": "code",
   "execution_count": null,
   "metadata": {
    "id": "5wEEvqyT1UjD"
   },
   "outputs": [],
   "source": [
    "x_train, X, y_train, y = train_test_split(X1, y1,\n",
    "                                                    test_size=0.50,\n",
    "                                                    random_state=10,\n",
    "                                                    stratify=y1)\n"
   ]
  },
  {
   "cell_type": "code",
   "execution_count": null,
   "metadata": {
    "colab": {
     "base_uri": "https://localhost:8080/"
    },
    "id": "omLVj79F1Ulj",
    "outputId": "ef04cef7-3d0d-4de6-f48e-c4c9cc5c9da0"
   },
   "outputs": [
    {
     "data": {
      "text/plain": [
       "(75396, 118)"
      ]
     },
     "execution_count": 15,
     "metadata": {},
     "output_type": "execute_result"
    }
   ],
   "source": [
    "X.shape"
   ]
  },
  {
   "cell_type": "code",
   "execution_count": null,
   "metadata": {
    "colab": {
     "base_uri": "https://localhost:8080/"
    },
    "id": "HR72asgO2ZRE",
    "outputId": "56fe562a-dd68-46ad-8519-cb26e0921928"
   },
   "outputs": [
    {
     "data": {
      "text/plain": [
       "(75396, 1)"
      ]
     },
     "execution_count": 16,
     "metadata": {},
     "output_type": "execute_result"
    }
   ],
   "source": [
    "y.shape"
   ]
  },
  {
   "cell_type": "markdown",
   "metadata": {
    "id": "vPAK_G3w5Vvh"
   },
   "source": [
    "Model 1.1 - Logistic Regression"
   ]
  },
  {
   "cell_type": "code",
   "execution_count": null,
   "metadata": {
    "colab": {
     "base_uri": "https://localhost:8080/"
    },
    "id": "dt3352wh3T-r",
    "outputId": "39f8830a-ab39-42e2-c16e-863c84a1b8ee"
   },
   "outputs": [
    {
     "name": "stdout",
     "output_type": "stream",
     "text": [
      "Training Accuracy\n",
      "0.9383082432522051\n",
      "Testing Accuracy\n",
      "0.9768567639257294\n",
      "Cross Validation Accuracy\n",
      "0.9508945812065365\n",
      "[[14136    15]\n",
      " [  334   595]]\n",
      "              precision    recall  f1-score   support\n",
      "\n",
      "           0       0.98      1.00      0.99     14151\n",
      "           1       0.98      0.64      0.77       929\n",
      "\n",
      "    accuracy                           0.98     15080\n",
      "   macro avg       0.98      0.82      0.88     15080\n",
      "weighted avg       0.98      0.98      0.97     15080\n",
      "\n"
     ]
    }
   ],
   "source": [
    "lr = LogisticRegression()\n",
    "sc = StandardScaler()\n",
    "Xtrain, Xtest, ytrain, ytest = train_test_split(X, y, test_size= .20,random_state=10)\n",
    "scaledXtrain = sc.fit_transform(Xtrain)\n",
    "scaledXtest = sc.transform(Xtest)\n",
    "lr.fit(scaledXtrain,ytrain)\n",
    "print(\"Training Accuracy\")\n",
    "print(lr.score(Xtrain,ytrain))\n",
    "print(\"Testing Accuracy\")\n",
    "print(lr.score(scaledXtest,ytest))\n",
    "scoreslr = cross_val_score(lr, scaledXtrain,ytrain, cv=10, scoring='roc_auc')\n",
    "print(\"Cross Validation Accuracy\")\n",
    "print(np.mean(scoreslr))\n",
    "predictedlr = lr.predict(scaledXtest)\n",
    "print(confusion_matrix(ytest,predictedlr))\n",
    "print(classification_report(ytest,predictedlr))"
   ]
  },
  {
   "cell_type": "markdown",
   "metadata": {
    "id": "2jn_V64P5QSy"
   },
   "source": [
    "Model 1.2 - Decision Tree Classifier"
   ]
  },
  {
   "cell_type": "code",
   "execution_count": null,
   "metadata": {
    "colab": {
     "base_uri": "https://localhost:8080/"
    },
    "id": "9Fk8oNl83UBC",
    "outputId": "fd843c24-c7f0-4107-ca28-e26338f478e7"
   },
   "outputs": [
    {
     "name": "stdout",
     "output_type": "stream",
     "text": [
      "Training Accuracy\n",
      "0.7189303004177996\n",
      "Testing Accuracy\n",
      "0.9611405835543767\n",
      "Cross Validation Accuracy\n",
      "0.8437272469663183\n",
      "[[13849   302]\n",
      " [  284   645]]\n",
      "              precision    recall  f1-score   support\n",
      "\n",
      "           0       0.98      0.98      0.98     14151\n",
      "           1       0.68      0.69      0.69       929\n",
      "\n",
      "    accuracy                           0.96     15080\n",
      "   macro avg       0.83      0.84      0.83     15080\n",
      "weighted avg       0.96      0.96      0.96     15080\n",
      "\n"
     ]
    }
   ],
   "source": [
    "dt = DecisionTreeClassifier()\n",
    "sc = StandardScaler()\n",
    "Xtrain, Xtest, ytrain, ytest = train_test_split(X, y, test_size= .20,random_state=10)\n",
    "scaledXtrain = sc.fit_transform(Xtrain)\n",
    "scaledXtest = sc.transform(Xtest)\n",
    "dt.fit(scaledXtrain,ytrain)\n",
    "print(\"Training Accuracy\")\n",
    "print(dt.score(Xtrain,ytrain))\n",
    "print(\"Testing Accuracy\")\n",
    "print(dt.score(scaledXtest,ytest))\n",
    "scoresdt = cross_val_score(dt, scaledXtrain,ytrain, cv=10, scoring='roc_auc')\n",
    "print(\"Cross Validation Accuracy\")\n",
    "print(np.mean(scoresdt))\n",
    "predicted_dt = dt.predict(scaledXtest)\n",
    "print(confusion_matrix(ytest,predicted_dt))\n",
    "print(classification_report(ytest,predicted_dt))"
   ]
  },
  {
   "cell_type": "markdown",
   "metadata": {
    "id": "xrkzpVKe5hyy"
   },
   "source": [
    "Model 1.3 - RandomForestClassifier"
   ]
  },
  {
   "cell_type": "code",
   "execution_count": null,
   "metadata": {
    "colab": {
     "base_uri": "https://localhost:8080/"
    },
    "id": "XVw5R7173UDi",
    "outputId": "530ad2c1-9594-4bd4-ad54-c50109b46f7f"
   },
   "outputs": [
    {
     "name": "stdout",
     "output_type": "stream",
     "text": [
      "Training Accuracy\n",
      "0.9388180457396215\n",
      "Testing Accuracy\n",
      "0.9694504620009726\n",
      "Cross Validation Accuracy\n",
      "0.9281628021933047\n",
      "[[21208     5]\n",
      " [  686   720]]\n",
      "              precision    recall  f1-score   support\n",
      "\n",
      "           0       0.97      1.00      0.98     21213\n",
      "           1       0.99      0.51      0.68      1406\n",
      "\n",
      "    accuracy                           0.97     22619\n",
      "   macro avg       0.98      0.76      0.83     22619\n",
      "weighted avg       0.97      0.97      0.96     22619\n",
      "\n"
     ]
    }
   ],
   "source": [
    "rf = RandomForestClassifier()\n",
    "sc = StandardScaler()\n",
    "Xtrain, Xtest, ytrain, ytest = train_test_split(X, y, test_size= .30,random_state=10)\n",
    "scaledXtrain = sc.fit_transform(Xtrain)\n",
    "scaledXtest = sc.transform(Xtest)\n",
    "rf.fit(scaledXtrain,ytrain)\n",
    "print(\"Training Accuracy\")\n",
    "print(rf.score(Xtrain,ytrain))\n",
    "print(\"Testing Accuracy\")\n",
    "print(rf.score(scaledXtest,ytest))\n",
    "scoresrf = cross_val_score(rf, scaledXtrain,ytrain, cv=10, scoring='roc_auc')\n",
    "print(\"Cross Validation Accuracy\")\n",
    "print(np.mean(scoresrf))\n",
    "predicted_rf = rf.predict(scaledXtest)\n",
    "print(confusion_matrix(ytest,predicted_rf))\n",
    "print(classification_report(ytest,predicted_rf))"
   ]
  },
  {
   "cell_type": "markdown",
   "metadata": {
    "id": "dPG48YFN5nPJ"
   },
   "source": [
    "Model 1.4- Naive Bayes Theorem"
   ]
  },
  {
   "cell_type": "code",
   "execution_count": null,
   "metadata": {
    "colab": {
     "base_uri": "https://localhost:8080/"
    },
    "id": "jMN4amrm3UF0",
    "outputId": "059bc434-3fbe-4810-d66e-61326bdba173"
   },
   "outputs": [
    {
     "name": "stdout",
     "output_type": "stream",
     "text": [
      "Training Accuracy\n",
      "0.06146616897512174\n",
      "Testing Accuracy\n",
      "0.11866130244484725\n",
      "Cross Validation Accuracy\n",
      "0.7085129849099125\n",
      "[[ 1294 19919]\n",
      " [   16  1390]]\n",
      "              precision    recall  f1-score   support\n",
      "\n",
      "           0       0.99      0.06      0.11     21213\n",
      "           1       0.07      0.99      0.12      1406\n",
      "\n",
      "    accuracy                           0.12     22619\n",
      "   macro avg       0.53      0.52      0.12     22619\n",
      "weighted avg       0.93      0.12      0.12     22619\n",
      "\n"
     ]
    }
   ],
   "source": [
    "gnb = GaussianNB()\n",
    "sc = StandardScaler()\n",
    "Xtrain, Xtest, ytrain, ytest = train_test_split(X, y, test_size= .30,random_state=10)\n",
    "scaledXtrain = sc.fit_transform(Xtrain)\n",
    "scaledXtest = sc.transform(Xtest)\n",
    "gnb.fit(scaledXtrain,ytrain)\n",
    "print(\"Training Accuracy\")\n",
    "print(gnb.score(Xtrain,ytrain))\n",
    "print(\"Testing Accuracy\")\n",
    "print(gnb.score(scaledXtest,ytest))\n",
    "scoresgnb = cross_val_score(gnb, scaledXtrain,ytrain, cv=10, scoring='roc_auc')\n",
    "print(\"Cross Validation Accuracy\")\n",
    "print(np.mean(scoresgnb))\n",
    "predicted_gnb = gnb.predict(scaledXtest)\n",
    "print(confusion_matrix(ytest,predicted_gnb))\n",
    "print(classification_report(ytest,predicted_gnb))"
   ]
  },
  {
   "cell_type": "markdown",
   "metadata": {
    "id": "GqF0Luao5tVi"
   },
   "source": [
    "Model 1.5- KNN CLassifier"
   ]
  },
  {
   "cell_type": "code",
   "execution_count": null,
   "metadata": {
    "colab": {
     "base_uri": "https://localhost:8080/"
    },
    "id": "x0ZAgRNd3UK7",
    "outputId": "74133150-b379-403d-ac08-c660d1b293d6"
   },
   "outputs": [
    {
     "name": "stdout",
     "output_type": "stream",
     "text": [
      "Training Accuracy\n",
      "0.9385338310248783\n",
      "Testing Accuracy\n",
      "0.9390335558601176\n",
      "Cross Validation Accuracy\n",
      "0.6465639526973089\n",
      "[[21161    52]\n",
      " [ 1327    79]]\n",
      "              precision    recall  f1-score   support\n",
      "\n",
      "           0       0.94      1.00      0.97     21213\n",
      "           1       0.60      0.06      0.10      1406\n",
      "\n",
      "    accuracy                           0.94     22619\n",
      "   macro avg       0.77      0.53      0.54     22619\n",
      "weighted avg       0.92      0.94      0.91     22619\n",
      "\n"
     ]
    }
   ],
   "source": [
    "knn = KNeighborsClassifier()\n",
    "sc = StandardScaler()\n",
    "Xtrain, Xtest, ytrain, ytest = train_test_split(X, y, test_size= .30,random_state=10)\n",
    "scaledXtrain = sc.fit_transform(Xtrain)\n",
    "scaledXtest = sc.transform(Xtest)\n",
    "knn.fit(scaledXtrain,ytrain)\n",
    "print(\"Training Accuracy\")\n",
    "print(knn.score(Xtrain,ytrain))\n",
    "print(\"Testing Accuracy\")\n",
    "print(knn.score(scaledXtest,ytest))\n",
    "scoresknn = cross_val_score(knn, scaledXtrain,ytrain, cv=10, scoring='roc_auc')\n",
    "print(\"Cross Validation Accuracy\")\n",
    "print(np.mean(scoresknn))\n",
    "predicted_knn = knn.predict(scaledXtest)\n",
    "print(confusion_matrix(ytest,predicted_knn))\n",
    "print(classification_report(ytest,predicted_knn))"
   ]
  },
  {
   "cell_type": "markdown",
   "metadata": {
    "id": "f54BbbwT5xa6"
   },
   "source": [
    "Model 1.6- GradientBoosting Classifier"
   ]
  },
  {
   "cell_type": "code",
   "execution_count": null,
   "metadata": {
    "colab": {
     "base_uri": "https://localhost:8080/"
    },
    "id": "A0qvpDxZ3UNa",
    "outputId": "25c4e948-fd52-49c6-b7ca-84ceb3f28574"
   },
   "outputs": [
    {
     "name": "stdout",
     "output_type": "stream",
     "text": [
      "Training Accuracy\n",
      "0.8428103150993804\n",
      "Testing Accuracy\n",
      "0.9751094212829922\n",
      "Cross Validation Accuracy\n",
      "0.9504820788017293\n",
      "[[21191    22]\n",
      " [  541   865]]\n",
      "              precision    recall  f1-score   support\n",
      "\n",
      "           0       0.98      1.00      0.99     21213\n",
      "           1       0.98      0.62      0.75      1406\n",
      "\n",
      "    accuracy                           0.98     22619\n",
      "   macro avg       0.98      0.81      0.87     22619\n",
      "weighted avg       0.98      0.98      0.97     22619\n",
      "\n"
     ]
    }
   ],
   "source": [
    "gbc = GradientBoostingClassifier()\n",
    "sc = StandardScaler()\n",
    "Xtrain, Xtest, ytrain, ytest = train_test_split(X, y, test_size= .30,random_state=10)\n",
    "scaledXtrain = sc.fit_transform(Xtrain)\n",
    "scaledXtest = sc.transform(Xtest)\n",
    "gbc.fit(scaledXtrain,ytrain)\n",
    "print(\"Training Accuracy\")\n",
    "print(gbc.score(Xtrain,ytrain))\n",
    "print(\"Testing Accuracy\")\n",
    "print(gbc.score(scaledXtest,ytest))\n",
    "scoresgbc = cross_val_score(gbc, scaledXtrain,ytrain, cv=10, scoring='roc_auc')\n",
    "print(\"Cross Validation Accuracy\")\n",
    "print(np.mean(scoresgbc))\n",
    "predicted_gbc = gbc.predict(scaledXtest)\n",
    "print(confusion_matrix(ytest,predicted_gbc))\n",
    "print(classification_report(ytest,predicted_gbc))"
   ]
  },
  {
   "cell_type": "markdown",
   "metadata": {
    "id": "Ggwj8Bsp54Wp"
   },
   "source": [
    "Model 1.7 - AdaBoostClassifer"
   ]
  },
  {
   "cell_type": "code",
   "execution_count": null,
   "metadata": {
    "colab": {
     "base_uri": "https://localhost:8080/"
    },
    "id": "JF49ttNs3UP0",
    "outputId": "6d4119a4-453c-425b-9966-013bb68c3d27"
   },
   "outputs": [
    {
     "name": "stdout",
     "output_type": "stream",
     "text": [
      "Training Accuracy\n",
      "0.9385527786725278\n",
      "Testing Accuracy\n",
      "0.970555727485742\n",
      "Cross Validation Accuracy\n",
      "0.9364948944267178\n",
      "[[21162    51]\n",
      " [  615   791]]\n",
      "              precision    recall  f1-score   support\n",
      "\n",
      "           0       0.97      1.00      0.98     21213\n",
      "           1       0.94      0.56      0.70      1406\n",
      "\n",
      "    accuracy                           0.97     22619\n",
      "   macro avg       0.96      0.78      0.84     22619\n",
      "weighted avg       0.97      0.97      0.97     22619\n",
      "\n"
     ]
    }
   ],
   "source": [
    "ad = AdaBoostClassifier()\n",
    "sc = StandardScaler()\n",
    "Xtrain, Xtest, ytrain, ytest = train_test_split(X, y, test_size= .30,random_state=10)\n",
    "scaledXtrain = sc.fit_transform(Xtrain)\n",
    "scaledXtest = sc.transform(Xtest)\n",
    "ad.fit(scaledXtrain,ytrain)\n",
    "print(\"Training Accuracy\")\n",
    "print(ad.score(Xtrain,ytrain))\n",
    "print(\"Testing Accuracy\")\n",
    "print(ad.score(scaledXtest,ytest))\n",
    "scoresgad = cross_val_score(ad, scaledXtrain,ytrain, cv=10, scoring='roc_auc')\n",
    "print(\"Cross Validation Accuracy\")\n",
    "print(np.mean(scoresgad))\n",
    "predicted_ad = ad.predict(scaledXtest)\n",
    "print(confusion_matrix(ytest,predicted_ad))\n",
    "print(classification_report(ytest,predicted_ad))"
   ]
  },
  {
   "cell_type": "markdown",
   "metadata": {
    "id": "hQ6KPovp6B5R"
   },
   "source": [
    "Model 1.8 - XGBoostClassifier"
   ]
  },
  {
   "cell_type": "code",
   "execution_count": null,
   "metadata": {
    "colab": {
     "base_uri": "https://localhost:8080/"
    },
    "id": "mEB7XviL3UVq",
    "outputId": "86ece0e5-fe68-487f-a2ea-9e247a09a355"
   },
   "outputs": [
    {
     "name": "stdout",
     "output_type": "stream",
     "text": [
      "Training Accuracy\n",
      "0.9772438751728972\n",
      "Testing Accuracy\n",
      "0.9745788938503028\n",
      "Cross Validation Accuracy\n",
      "0.9511038879044531\n",
      "[[21202    11]\n",
      " [  564   842]]\n",
      "              precision    recall  f1-score   support\n",
      "\n",
      "           0       0.97      1.00      0.99     21213\n",
      "           1       0.99      0.60      0.75      1406\n",
      "\n",
      "    accuracy                           0.97     22619\n",
      "   macro avg       0.98      0.80      0.87     22619\n",
      "weighted avg       0.97      0.97      0.97     22619\n",
      "\n"
     ]
    }
   ],
   "source": [
    "xgb = XGBClassifier()\n",
    "sc = StandardScaler()\n",
    "Xtrain, Xtest, ytrain, ytest = train_test_split(X, y, test_size= .30,random_state=10)\n",
    "scaledXtrain = sc.fit_transform(Xtrain)\n",
    "scaledXtest = sc.transform(Xtest)\n",
    "xgb.fit(scaledXtrain,ytrain)\n",
    "print(\"Training Accuracy\")\n",
    "print(xgb.score(scaledXtrain,ytrain))\n",
    "print(\"Testing Accuracy\")\n",
    "print(xgb.score(scaledXtest,ytest))\n",
    "scoresxgb = cross_val_score(xgb, scaledXtrain,ytrain, cv=10, scoring='roc_auc')\n",
    "print(\"Cross Validation Accuracy\")\n",
    "print(np.mean(scoresxgb))\n",
    "predicted_xgb = xgb.predict(scaledXtest)\n",
    "print(confusion_matrix(ytest,predicted_xgb))\n",
    "print(classification_report(ytest,predicted_xgb))"
   ]
  },
  {
   "cell_type": "markdown",
   "metadata": {
    "id": "XzklaGeV6W5C"
   },
   "source": [
    "1.9 Support Vector Classifier"
   ]
  },
  {
   "cell_type": "code",
   "execution_count": null,
   "metadata": {
    "colab": {
     "base_uri": "https://localhost:8080/"
    },
    "id": "4CsMO5r93UYL",
    "outputId": "f1e13737-c1c5-409a-e947-b093392e4d54"
   },
   "outputs": [
    {
     "name": "stdout",
     "output_type": "stream",
     "text": [
      "Training Accuracy\n",
      "0.9731322356329462\n",
      "Testing Accuracy\n",
      "0.9681241434192494\n",
      "Cross Validation Accuracy\n",
      "0.9382050631290783\n",
      "[[21202    11]\n",
      " [  710   696]]\n",
      "              precision    recall  f1-score   support\n",
      "\n",
      "           0       0.97      1.00      0.98     21213\n",
      "           1       0.98      0.50      0.66      1406\n",
      "\n",
      "    accuracy                           0.97     22619\n",
      "   macro avg       0.98      0.75      0.82     22619\n",
      "weighted avg       0.97      0.97      0.96     22619\n",
      "\n"
     ]
    }
   ],
   "source": [
    "from sklearn.svm import SVC \n",
    "svc = SVC()\n",
    "sc = StandardScaler()\n",
    "Xtrain, Xtest, ytrain, ytest = train_test_split(X, y, test_size= .30,random_state=10)\n",
    "scaledXtrain = sc.fit_transform(Xtrain)\n",
    "scaledXtest = sc.transform(Xtest)\n",
    "svc.fit(scaledXtrain,ytrain)\n",
    "print(\"Training Accuracy\")\n",
    "print(svc.score(scaledXtrain,ytrain))\n",
    "print(\"Testing Accuracy\")\n",
    "print(svc.score(scaledXtest,ytest))\n",
    "scoressvc = cross_val_score(svc, scaledXtrain,ytrain, cv=10, scoring='roc_auc')\n",
    "print(\"Cross Validation Accuracy\")\n",
    "print(np.mean(scoressvc))\n",
    "predicted_svc = svc.predict(scaledXtest)\n",
    "print(confusion_matrix(ytest,predicted_svc))\n",
    "print(classification_report(ytest,predicted_svc))"
   ]
  },
  {
   "cell_type": "code",
   "execution_count": null,
   "metadata": {
    "id": "-9Ntv_ES3UbK"
   },
   "outputs": [],
   "source": []
  },
  {
   "cell_type": "code",
   "execution_count": null,
   "metadata": {
    "id": "NjHrYI_y3UdX"
   },
   "outputs": [],
   "source": []
  },
  {
   "cell_type": "code",
   "execution_count": null,
   "metadata": {
    "id": "1NroKtWn3Uf_"
   },
   "outputs": [],
   "source": []
  },
  {
   "cell_type": "code",
   "execution_count": null,
   "metadata": {
    "id": "MXizy8k62Zay"
   },
   "outputs": [],
   "source": []
  },
  {
   "cell_type": "code",
   "execution_count": null,
   "metadata": {
    "id": "B9DG32qK2ZdM"
   },
   "outputs": [],
   "source": []
  },
  {
   "cell_type": "code",
   "execution_count": null,
   "metadata": {
    "id": "qcD5Mg0n2Zf0"
   },
   "outputs": [],
   "source": []
  },
  {
   "cell_type": "code",
   "execution_count": null,
   "metadata": {
    "id": "LIHLhKP91Uny"
   },
   "outputs": [],
   "source": []
  }
 ],
 "metadata": {
  "colab": {
   "name": " 8.  Model_building_50% .ipynb",
   "provenance": []
  },
  "kernelspec": {
   "display_name": "Python 3",
   "language": "python",
   "name": "python3"
  },
  "language_info": {
   "codemirror_mode": {
    "name": "ipython",
    "version": 3
   },
   "file_extension": ".py",
   "mimetype": "text/x-python",
   "name": "python",
   "nbconvert_exporter": "python",
   "pygments_lexer": "ipython3",
   "version": "3.8.3"
  }
 },
 "nbformat": 4,
 "nbformat_minor": 1
}
